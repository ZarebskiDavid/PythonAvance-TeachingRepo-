{
 "cells": [
  {
   "cell_type": "markdown",
   "metadata": {},
   "source": [
    "# La programmation orientée object: quoi, pourquoi, comment\n",
    "\n",
    "On dit souvent de python et bien d'autres langages qu'ils supportent une programmation dite \"**orientée objet**\" par opposé à une programmation **orientée fonction**. Cette formule peut prêter à confusion du fait que le fonctionnement de tous les langages contemporains orientés objets (Java, C#, Python, Ruby, PHP, etc) repose essentiellement sur la définition de fonctions. Il s'agit du moins de ce que l'on apprend en premier. \n",
    "\n",
    "**Notions clés** : objets, classes, attributs, méthodes, encapsulation, polymorphisme XXXXXXX\n",
    "\n"
   ]
  },
  {
   "cell_type": "markdown",
   "metadata": {},
   "source": [
    "## Quoi?\n",
    "\n",
    "### Classes, attibuts et instances\n",
    "\n",
    "Il existe plusieurs manières d'approcher cette notion. L'une d'elles consiste à dire qu'un langage de programmation supporte une programmation orientée objet s'il permet de construire des classes d'entités disposant de leurs methodes et attibuts propres. Par exemple, une voiture est un véhicule à quatre roues. En python, nous dirions"
   ]
  },
  {
   "cell_type": "code",
   "execution_count": 1,
   "metadata": {
    "collapsed": true
   },
   "outputs": [],
   "source": [
    "class Voiture: \n",
    "    def __init__(self):\n",
    "        self.fonction = \"deplacement\"\n",
    "        self.nombre_de_roues = 4\n",
    "\n",
    "class Moto: \n",
    "    def __init__(self):\n",
    "        self.fonction = \"deplacement\"\n",
    "        self.nombre_de_roues = 2"
   ]
  },
  {
   "cell_type": "markdown",
   "metadata": {},
   "source": [
    "fonction et nombre de roues sont ce que l'on appelle des **attributs de classe**. La syntaxe __init__(self) peut paraitre déroutante au premier abord. Décomposons. __init__() est une méthode que l'on appelle dans une classe pour la création d'un objet. self, dans ce contexte, n'est jamais rien de plus qu'une variable locale utilisée pour désigner un objet quelconque de cette classe (et non une constante!!!). Une bonne manière de s'en assurer: l'expression suivante est tout à fait valide et fonctionnelle."
   ]
  },
  {
   "cell_type": "code",
   "execution_count": 2,
   "metadata": {
    "collapsed": true
   },
   "outputs": [],
   "source": [
    "class SemiRemorque:\n",
    "    def __init__(xyz):\n",
    "        xyz.nombre_de_roues = 6"
   ]
  },
  {
   "cell_type": "markdown",
   "metadata": {},
   "source": [
    "Nous concerverons toutefois **self** pour au moins deux raisons: 1) il s'agit d'une convention, d'une bonne pratique. self agit presque à la manière d'une constante: tout le monde, en lisant votre code, sait de quoi il s'agit, et vous comprenez le code de n'importe qui. 2) les éditeurs de code colorent syntaxiquement ce mot clé --> code plus clair pour vous-même. Pendant que nous y sommes, une autre convention: les noms de classes commencent par une majuscule\n",
    "\n",
    "Ce qu'il y a de chouette, c'est que n'importe quel objet -- i.e instance d'une classe -- possède automatiquement ses attributs. Ainsi, il me suffira de dire qu'une Ninja H2R est une moto"
   ]
  },
  {
   "cell_type": "code",
   "execution_count": 3,
   "metadata": {
    "collapsed": true
   },
   "outputs": [],
   "source": [
    "NinjaH2R = Moto()"
   ]
  },
  {
   "cell_type": "markdown",
   "metadata": {},
   "source": [
    "pour que cet **objet hérite des propriétés de sa classe**"
   ]
  },
  {
   "cell_type": "code",
   "execution_count": 4,
   "metadata": {
    "collapsed": false
   },
   "outputs": [
    {
     "data": {
      "text/plain": [
       "2"
      ]
     },
     "execution_count": 4,
     "metadata": {},
     "output_type": "execute_result"
    }
   ],
   "source": [
    "NinjaH2R.nombre_de_roues"
   ]
  },
  {
   "cell_type": "markdown",
   "metadata": {},
   "source": [
    "[exercice] affichez la fonction d'un voiture quelconque précédemment instanciée"
   ]
  },
  {
   "cell_type": "code",
   "execution_count": null,
   "metadata": {
    "collapsed": true
   },
   "outputs": [],
   "source": []
  },
  {
   "cell_type": "markdown",
   "metadata": {},
   "source": [
    "[exercice de pensée] une classe existe-t-elle indépendamment de ses instances? Le carré-rond de Meinung existe-t-il? Qu'est-ce qu'exister? (vous avez 4 heures)"
   ]
  },
  {
   "cell_type": "markdown",
   "metadata": {},
   "source": [
    "### Méthodes\n",
    "\n",
    "Maintenant que nous avons vu les classes et leur attributs, passons aux **méthodes**. Les méthodes ne sont jamais rien de plus que des fonctions. Des fonctions certes, mais des fonctions définies à l'**intérieur de classes** pour ces mêmes classes d'objets. \n",
    "\n",
    "En soit, vous vous êtes certainement déjà servis de méthodes en python sans forcément bien les distinguer des fonctions. Exemple:"
   ]
  },
  {
   "cell_type": "code",
   "execution_count": 5,
   "metadata": {
    "collapsed": false
   },
   "outputs": [
    {
     "name": "stdout",
     "output_type": "stream",
     "text": [
      "[7, 4, 9, 65, 8]\n"
     ]
    }
   ],
   "source": [
    "l = [7,4,9,65]\n",
    "l.append(8)\n",
    "print(l)"
   ]
  },
  {
   "cell_type": "markdown",
   "metadata": {},
   "source": [
    "la méthode append ajoute son argument à la fin d'une liste. Il s'agit d'une méthode de liste, par les listes, pour les listes. Une bonne manière de s'en convaincre"
   ]
  },
  {
   "cell_type": "code",
   "execution_count": 6,
   "metadata": {
    "collapsed": false
   },
   "outputs": [
    {
     "ename": "AttributeError",
     "evalue": "'str' object has no attribute 'append'",
     "output_type": "error",
     "traceback": [
      "\u001b[0;31m---------------------------------------------------------------------------\u001b[0m",
      "\u001b[0;31mAttributeError\u001b[0m                            Traceback (most recent call last)",
      "\u001b[0;32m<ipython-input-6-54973ceb7e25>\u001b[0m in \u001b[0;36m<module>\u001b[0;34m()\u001b[0m\n\u001b[1;32m      1\u001b[0m \u001b[0ms\u001b[0m \u001b[0;34m=\u001b[0m \u001b[0;34m\"qsnlqnx\"\u001b[0m\u001b[0;34m\u001b[0m\u001b[0m\n\u001b[0;32m----> 2\u001b[0;31m \u001b[0ms\u001b[0m\u001b[0;34m.\u001b[0m\u001b[0mappend\u001b[0m\u001b[0;34m(\u001b[0m\u001b[0ma\u001b[0m\u001b[0;34m)\u001b[0m\u001b[0;34m\u001b[0m\u001b[0m\n\u001b[0m\u001b[1;32m      3\u001b[0m \u001b[0mprint\u001b[0m\u001b[0;34m(\u001b[0m\u001b[0ms\u001b[0m\u001b[0;34m)\u001b[0m\u001b[0;34m\u001b[0m\u001b[0m\n",
      "\u001b[0;31mAttributeError\u001b[0m: 'str' object has no attribute 'append'"
     ]
    }
   ],
   "source": [
    "s = \"qsnlqnx\"\n",
    "s.append(a)\n",
    "print(s)"
   ]
  },
  {
   "cell_type": "code",
   "execution_count": 7,
   "metadata": {
    "collapsed": true
   },
   "outputs": [],
   "source": [
    "class Salarie:\n",
    "    def __init__(self, prenom, nom, paye, poste):\n",
    "        self.prenom = prenom\n",
    "        self.nom = nom\n",
    "        self.paye = paye\n",
    "        self.email = prenom+'.'+nom+'@compagny.com'\n",
    "        self.poste = poste\n",
    "        \n",
    "    def NomComplet(self):\n",
    "        return '{}{}'.format(self.prenom, self.nom)"
   ]
  },
  {
   "cell_type": "code",
   "execution_count": 8,
   "metadata": {
    "collapsed": true
   },
   "outputs": [],
   "source": [
    "emp_1 = Salarie('Gerard','Bouchard', 50000, 'dev')\n",
    "emp_2 = Salarie('Marie','Milo', 70000,'drh')"
   ]
  },
  {
   "cell_type": "markdown",
   "metadata": {},
   "source": [
    "[exercice] afficher l'adresse mail de tous les employés"
   ]
  },
  {
   "cell_type": "code",
   "execution_count": null,
   "metadata": {
    "collapsed": true
   },
   "outputs": [],
   "source": []
  },
  {
   "cell_type": "code",
   "execution_count": 9,
   "metadata": {
    "collapsed": true
   },
   "outputs": [],
   "source": [
    "class Salarie:\n",
    "    \n",
    "    taux_annuel = 1.04\n",
    "    \n",
    "    def __init__(self, prenom, nom, paye, poste):\n",
    "        self.prenom = prenom\n",
    "        self.nom = nom\n",
    "        self.paye = paye\n",
    "        self.email = prenom+'.'+nom+'@compagny.com'\n",
    "        self.poste = poste\n",
    "        \n",
    "    def NomComplet(self):\n",
    "        return '{}{}'.format(self.prenom, self.nom)\n",
    "    \n",
    "    def augmentation(self):\n",
    "        self.paye = int(self.paye * self.taux_annuel)"
   ]
  },
  {
   "cell_type": "code",
   "execution_count": 10,
   "metadata": {
    "collapsed": true
   },
   "outputs": [],
   "source": [
    "emp_1 = Salarie('Gerard','Bouchard', 50000, 'dev')\n",
    "emp_2 = Salarie('Marie','Milo', 70000,'drh')"
   ]
  },
  {
   "cell_type": "code",
   "execution_count": 11,
   "metadata": {
    "collapsed": false
   },
   "outputs": [
    {
     "name": "stdout",
     "output_type": "stream",
     "text": [
      "50000\n",
      "52000\n"
     ]
    }
   ],
   "source": [
    "print(emp_1.paye)\n",
    "emp_1.augmentation()\n",
    "print(emp_1.paye)"
   ]
  },
  {
   "cell_type": "markdown",
   "metadata": {},
   "source": [
    "NB \"taux_annuelle\" est ce que l'on appelle une **variable de classe**. On peut y accéder par la classe ou par ses instances (du fait que les instances héritent de leurs classes)"
   ]
  },
  {
   "cell_type": "code",
   "execution_count": 12,
   "metadata": {
    "collapsed": false
   },
   "outputs": [
    {
     "name": "stdout",
     "output_type": "stream",
     "text": [
      "1.04\n",
      "1.04\n",
      "1.04\n"
     ]
    }
   ],
   "source": [
    "print(Salarie.taux_annuel)\n",
    "print(emp_1.taux_annuel) # n'ont pas l'attribut\n",
    "print(emp_2.taux_annuel)"
   ]
  },
  {
   "cell_type": "code",
   "execution_count": 13,
   "metadata": {
    "collapsed": false
   },
   "outputs": [
    {
     "name": "stdout",
     "output_type": "stream",
     "text": [
      "{'email': 'Gerard.Bouchard@compagny.com', 'nom': 'Bouchard', 'prenom': 'Gerard', 'poste': 'dev', 'paye': 52000}\n"
     ]
    }
   ],
   "source": [
    "print(emp_1.__dict__) # n'ont pas l'attribut -> l'interpréteur va le chercher du côté de la classe"
   ]
  },
  {
   "cell_type": "markdown",
   "metadata": {},
   "source": [
    "Il est possible de changer une variable de classe \"depuis l'extérieur\""
   ]
  },
  {
   "cell_type": "code",
   "execution_count": 14,
   "metadata": {
    "collapsed": false
   },
   "outputs": [
    {
     "name": "stdout",
     "output_type": "stream",
     "text": [
      "1.05\n",
      "1.05\n",
      "1.05\n"
     ]
    }
   ],
   "source": [
    "Salarie.taux_annuel = 1.05\n",
    "\n",
    "print(Salarie.taux_annuel)\n",
    "print(emp_1.taux_annuel) \n",
    "print(emp_2.taux_annuel)"
   ]
  },
  {
   "cell_type": "markdown",
   "metadata": {},
   "source": [
    "Notez au passage que **taux_annuel** n'est toujours pas un attribut d'instance.  "
   ]
  },
  {
   "cell_type": "code",
   "execution_count": null,
   "metadata": {
    "collapsed": false
   },
   "outputs": [],
   "source": [
    "print(emp_1.__dict__)"
   ]
  },
  {
   "cell_type": "markdown",
   "metadata": {},
   "source": [
    "[Exercice] essayez d'appliquer des taux différents pour emp_1 et emp_2 (resectivement 8% et 10%). (Indice 1: changez la variable au niveau de l'instance (on parlera alors de **variable d'instance**). Indice 2: vous devriez trouver taux_annuel dans l'instance elle même)"
   ]
  },
  {
   "cell_type": "code",
   "execution_count": null,
   "metadata": {
    "collapsed": true
   },
   "outputs": [],
   "source": []
  },
  {
   "cell_type": "markdown",
   "metadata": {},
   "source": [
    "[Exercice] Incrémentez un compteur d'employers (une variable dont la valeur prendra +1 à chaque instanciation). Servez vous de <a href =\"https://stackoverflow.com/questions/4841436/what-exactly-does-do-in-python\"> ce trick</a>. Printer cette valeur"
   ]
  },
  {
   "cell_type": "code",
   "execution_count": 21,
   "metadata": {
    "collapsed": false
   },
   "outputs": [
    {
     "name": "stdout",
     "output_type": "stream",
     "text": [
      "None\n"
     ]
    }
   ],
   "source": [
    "class Salarie:\n",
    "    \n",
    "    n_emps = None   ## CODE À COMPLETER\n",
    "    taux_annuel = 1.04\n",
    "    \n",
    "    def __init__(self, prenom, nom, paye, poste):   ## c'est cette méthode qui est appelée à chaque instanciation\n",
    "        self.prenom = prenom\n",
    "        self.nom = nom\n",
    "        self.paye = paye\n",
    "        self.email = prenom+'.'+nom+'@compagny.com'\n",
    "        self.poste = poste\n",
    "        \n",
    "        None  ## C'EST DONC ICI QUE VOUS DEVEZ FAIRE QUELQUE CHOSE\n",
    "        \n",
    "    def NomComplet(self):\n",
    "        return '{}{}'.format(self.prenom, self.nom)\n",
    "    \n",
    "    def augmentation(self):\n",
    "        self.paye = int(self.paye * self.taux_annuel)\n",
    "\n",
    "emp_1 = Salarie('Gerard','Bouchard', 50000, 'dev')\n",
    "emp_2 = Salarie('Marie','Milo', 70000,'drh')\n",
    "\n",
    "print(None) ## CODE À COMPLETER"
   ]
  },
  {
   "cell_type": "markdown",
   "metadata": {},
   "source": [
    "### Méthode, méthodes de classes et méthode statiques\n",
    "\n",
    "Nous avons vu qu'une méthode pouvait s'apparenter à une fonction prenant les **instances** comme arguments. Et si nous voulions appliquer des méthodes aux **classes** plutôt qu'aux **instances**?\n",
    "\n",
    "Pour cela, nous allons nous servir d'un **décorateur**. On utilise pour cela @"
   ]
  },
  {
   "cell_type": "code",
   "execution_count": 22,
   "metadata": {
    "collapsed": true
   },
   "outputs": [],
   "source": [
    "class Salarie:\n",
    "    taux_annuel = 1.04                                  #@@@@@\n",
    "    \n",
    "    def __init__(self, prenom, nom, paye, poste):   \n",
    "        self.prenom = prenom\n",
    "        self.nom = nom\n",
    "        self.paye = paye\n",
    "        self.email = prenom+'.'+nom+'@compagny.com'\n",
    "        self.poste = poste\n",
    "     \n",
    "    @classmethod   ## méthode de classe\n",
    "    def fixe_taux(cls,t):\n",
    "        cls.taux_annuel = t                           #@@@@@\n",
    "    \n",
    "    def augmentation(self):    ## méthode (appliquée aux instances: self)\n",
    "        self.paye = int(self.paye * self.taux_annuel)\n",
    "\n",
    "emp_1 = Salarie('Gerard','Bouchard', 50000, 'dev')\n",
    "emp_2 = Salarie('Marie','Milo', 70000,'drh')"
   ]
  },
  {
   "cell_type": "code",
   "execution_count": 23,
   "metadata": {
    "collapsed": false
   },
   "outputs": [
    {
     "name": "stdout",
     "output_type": "stream",
     "text": [
      "1.04\n"
     ]
    }
   ],
   "source": [
    "print(Salarie.taux_annuel)"
   ]
  },
  {
   "cell_type": "code",
   "execution_count": 24,
   "metadata": {
    "collapsed": false
   },
   "outputs": [
    {
     "name": "stdout",
     "output_type": "stream",
     "text": [
      "1.05\n",
      "1.05\n",
      "1.05\n"
     ]
    }
   ],
   "source": [
    "Salarie.fixe_taux(1.05)\n",
    "print(Salarie.taux_annuel)\n",
    "print(emp_1.taux_annuel) \n",
    "print(emp_2.taux_annuel)"
   ]
  },
  {
   "cell_type": "markdown",
   "metadata": {},
   "source": [
    "[exercice] créer une méthode de classe capable d'instancier de nouveau employers en parsant les chaines de caractères suivantes. Vous aurez besoin de la méthode <a href=\"http://python-reference.readthedocs.io/en/latest/docs/str/split.html\">split</a>"
   ]
  },
  {
   "cell_type": "code",
   "execution_count": 25,
   "metadata": {
    "collapsed": true
   },
   "outputs": [],
   "source": [
    "emp_string_1 ='John-Doe-60000-dev'\n",
    "emp_string_2 ='Ines-Perrer-50000-admin'\n",
    "emp_string_3 ='Omer-Daller-90000-devOp'"
   ]
  },
  {
   "cell_type": "code",
   "execution_count": 28,
   "metadata": {
    "collapsed": true
   },
   "outputs": [],
   "source": [
    "class Salarie:\n",
    "    \n",
    "    def __init__(self, prenom, nom, paye, poste):   \n",
    "        self.prenom = prenom\n",
    "        self.nom = nom\n",
    "        self.paye = paye\n",
    "        self.email = prenom+'.'+nom+'@compagny.com'\n",
    "        self.poste = poste\n",
    "     \n",
    "    @classmethod   ## méthode de classe\n",
    "    def from_string(cls, emp_str):\n",
    "        nom, prenom, paye, poste = None ## CODE À COMPLÉTER\n",
    "        return cls(None) ## CODE À COMPLÉTER\n",
    "    \n",
    "    def augmentation(self):   \n",
    "        self.paye = int(self.paye * self.taux_annuel)"
   ]
  },
  {
   "cell_type": "code",
   "execution_count": 31,
   "metadata": {
    "collapsed": false
   },
   "outputs": [
    {
     "data": {
      "text/plain": [
       "{'email': 'Doe.John@compagny.com',\n",
       " 'nom': 'John',\n",
       " 'paye': '60000',\n",
       " 'poste': 'dev',\n",
       " 'prenom': 'Doe'}"
      ]
     },
     "execution_count": 31,
     "metadata": {},
     "output_type": "execute_result"
    }
   ],
   "source": [
    "nouveau_1 = Salarie.from_string(emp_string_1)\n",
    "nouveau_1.__dict__"
   ]
  },
  {
   "cell_type": "markdown",
   "metadata": {},
   "source": [
    "Nous venons de créer une méthode de classe capable d'instancier. Petit point de jargon technique, cette méthode de classe est aussi ce que l'on appelle une \"**Factory method**\". \n",
    "\n",
    "Nous avons vu les méthodes d'instances et les méthodes de classe. Mais qu'en est-il du cas où nous aurions besoin de créer une méthode dans cette classe qui n'ait par ailleurs pas grand chose à voir avec la classe ni avec ses instances. C'est dans ce contexte que l'on parle de **méthode statique**. "
   ]
  },
  {
   "cell_type": "code",
   "execution_count": 32,
   "metadata": {
    "collapsed": true
   },
   "outputs": [],
   "source": [
    "class Salarie:\n",
    "    \n",
    "    def __init__(self, prenom, nom, paye, poste):   \n",
    "        self.prenom = prenom\n",
    "        self.nom = nom\n",
    "        self.paye = paye\n",
    "        self.email = prenom+'.'+nom+'@compagny.com'\n",
    "        self.poste = poste\n",
    "     \n",
    "    @staticmethod   ## NB: on n'appelle ni cls, ni self\n",
    "    def jour_semaine(jour):\n",
    "        if jour.weekday() == 5 or jour.weekday() == 6:\n",
    "            return False\n",
    "        return True\n",
    "    \n",
    "    def augmentation(self):   \n",
    "        self.paye = int(self.paye * self.taux_annuel)"
   ]
  },
  {
   "cell_type": "code",
   "execution_count": 33,
   "metadata": {
    "collapsed": false
   },
   "outputs": [
    {
     "name": "stdout",
     "output_type": "stream",
     "text": [
      "False\n"
     ]
    }
   ],
   "source": [
    "import datetime\n",
    "\n",
    "jour = datetime.date(2017,9,17)\n",
    "\n",
    "print(Salarie.jour_semaine(jour))"
   ]
  },
  {
   "cell_type": "markdown",
   "metadata": {},
   "source": [
    "### Héritage et sous-classes\n",
    "\n",
    "Il arrive souvent que des classes partages un certain nombre d'attibut du fait qu'elles s'apparentent en fait à différentes variantes d'une même classe qui les inclue. Voyons comment faire cela."
   ]
  },
  {
   "cell_type": "code",
   "execution_count": 35,
   "metadata": {
    "collapsed": true
   },
   "outputs": [],
   "source": [
    "class Salarie:\n",
    "    \n",
    "    def __init__(self, prenom, nom, paye):   \n",
    "        self.prenom = prenom\n",
    "        self.nom = nom\n",
    "        self.paye = paye\n",
    "        self.email = prenom+'.'+nom+'@compagny.com'\n",
    "    \n",
    "    def augmentation(self):   \n",
    "        self.paye = int(self.paye * self.taux_annuel)\n",
    "\n",
    "class Developer(Salarie):   # UNE SOUS CLASSE DE sALARIE\n",
    "    pass"
   ]
  },
  {
   "cell_type": "code",
   "execution_count": 36,
   "metadata": {
    "collapsed": true
   },
   "outputs": [],
   "source": [
    "dev_1 = Developer('Gerard','Bouchard', 50000)\n",
    "dev_2 = Developer('Marie','Milo', 70000)"
   ]
  },
  {
   "cell_type": "code",
   "execution_count": 37,
   "metadata": {
    "collapsed": false
   },
   "outputs": [
    {
     "name": "stdout",
     "output_type": "stream",
     "text": [
      "Help on class Developer in module __main__:\n",
      "\n",
      "class Developer(Salarie)\n",
      " |  Method resolution order:\n",
      " |      Developer\n",
      " |      Salarie\n",
      " |      builtins.object\n",
      " |  \n",
      " |  Methods inherited from Salarie:\n",
      " |  \n",
      " |  __init__(self, prenom, nom, paye)\n",
      " |      Initialize self.  See help(type(self)) for accurate signature.\n",
      " |  \n",
      " |  augmentation(self)\n",
      " |  \n",
      " |  ----------------------------------------------------------------------\n",
      " |  Data descriptors inherited from Salarie:\n",
      " |  \n",
      " |  __dict__\n",
      " |      dictionary for instance variables (if defined)\n",
      " |  \n",
      " |  __weakref__\n",
      " |      list of weak references to the object (if defined)\n",
      "\n",
      "None\n"
     ]
    }
   ],
   "source": [
    "print(help(Developer))"
   ]
  },
  {
   "cell_type": "markdown",
   "metadata": {},
   "source": [
    "[exercice] ajoutez 3 méthodes à la classe Manager pour \n",
    "<ul>\n",
    "<li> ajouter des employers à la liste des employers dont il est responsable\n",
    "<li> supprimer des employers de la liste des employers dont il est responsable\n",
    "<li> imprimer la liste\n",
    "</ul>\n"
   ]
  },
  {
   "cell_type": "code",
   "execution_count": 42,
   "metadata": {
    "collapsed": true
   },
   "outputs": [],
   "source": [
    "class Salarie:\n",
    "    \n",
    "    def __init__(self, prenom, nom, paye):   \n",
    "        self.prenom = prenom\n",
    "        self.nom = nom\n",
    "        self.paye = paye\n",
    "        self.email = prenom+'.'+nom+'@compagny.com'\n",
    "    \n",
    "    def augmentation(self):   \n",
    "        self.paye = int(self.paye * self.taux_annuel)\n",
    "\n",
    "        \n",
    "class Manager(Salarie):   \n",
    "    def __init__(self, prenom, nom, paye, employ = None):\n",
    "        super().__init__(prenom, nom, paye)  # et ouais, on n'a pas besoin de tout réécrire, on récupère l'init de\n",
    "        if employ is None:                   # la classe supérieure\n",
    "            self.employ = []\n",
    "        else: \n",
    "            self.employ=employ\n",
    "            \n",
    "    def add_employ(self,emp):\n",
    "        None   ###CODE À COMPLÉTER\n",
    "    \n",
    "    def remove_employ(self,emp):\n",
    "        None ###CODE À COMPLÉTER\n",
    "    \n",
    "    def print_employ(self):    ###@@@@@@@@\n",
    "        None ###CODE À COMPLÉTER"
   ]
  },
  {
   "cell_type": "code",
   "execution_count": 43,
   "metadata": {
    "collapsed": true
   },
   "outputs": [],
   "source": [
    "mgr_1 = Manager('Margaret', 'Tatcher', 80000, [])"
   ]
  },
  {
   "cell_type": "code",
   "execution_count": 44,
   "metadata": {
    "collapsed": false
   },
   "outputs": [
    {
     "name": "stdout",
     "output_type": "stream",
     "text": [
      "[]\n"
     ]
    }
   ],
   "source": [
    "mgr_1.print_employ()"
   ]
  },
  {
   "cell_type": "code",
   "execution_count": 45,
   "metadata": {
    "collapsed": false
   },
   "outputs": [
    {
     "name": "stdout",
     "output_type": "stream",
     "text": [
      "['Steve Harris']\n"
     ]
    }
   ],
   "source": [
    "mgr_1.add_employ('Steve Harris')\n",
    "mgr_1.print_employ()"
   ]
  },
  {
   "cell_type": "markdown",
   "metadata": {},
   "source": [
    "Variante. Assurez vous que: un employé ne puisse pas être ajouté deux fois"
   ]
  },
  {
   "cell_type": "markdown",
   "metadata": {},
   "source": [
    "Deux fonctions bien pratiques"
   ]
  },
  {
   "cell_type": "code",
   "execution_count": 46,
   "metadata": {
    "collapsed": false
   },
   "outputs": [
    {
     "name": "stdout",
     "output_type": "stream",
     "text": [
      "True\n",
      "True\n",
      "False\n"
     ]
    }
   ],
   "source": [
    "print(isinstance(mgr_1,Manager))\n",
    "print(isinstance(mgr_1,Salarie))\n",
    "print(isinstance(dev_1,Manager))"
   ]
  },
  {
   "cell_type": "code",
   "execution_count": 47,
   "metadata": {
    "collapsed": false
   },
   "outputs": [
    {
     "name": "stdout",
     "output_type": "stream",
     "text": [
      "True\n",
      "False\n",
      "False\n"
     ]
    }
   ],
   "source": [
    "print(issubclass(Manager, Salarie))\n",
    "print(issubclass(Developer, Salarie))\n",
    "print(issubclass(Manager, Moto))"
   ]
  },
  {
   "cell_type": "markdown",
   "metadata": {},
   "source": [
    "Notez au passage"
   ]
  },
  {
   "cell_type": "code",
   "execution_count": 48,
   "metadata": {
    "collapsed": false
   },
   "outputs": [
    {
     "name": "stdout",
     "output_type": "stream",
     "text": [
      "True\n"
     ]
    }
   ],
   "source": [
    "print(issubclass(Manager, Manager))"
   ]
  },
  {
   "cell_type": "markdown",
   "metadata": {},
   "source": [
    "### Let's do some magic\n",
    "\n",
    "Voyons comment réaliser des magic methods en python. Vous avez du remarquer que, en python, un même opérateur pouvait être appliqué à des objets très différents (avec des résultats très différents eux aussi). + est le parfait exemple"
   ]
  },
  {
   "cell_type": "code",
   "execution_count": 49,
   "metadata": {
    "collapsed": false
   },
   "outputs": [
    {
     "data": {
      "text/plain": [
       "2"
      ]
     },
     "execution_count": 49,
     "metadata": {},
     "output_type": "execute_result"
    }
   ],
   "source": [
    "1+1 "
   ]
  },
  {
   "cell_type": "code",
   "execution_count": 51,
   "metadata": {
    "collapsed": false
   },
   "outputs": [
    {
     "data": {
      "text/plain": [
       "'ab'"
      ]
     },
     "execution_count": 51,
     "metadata": {},
     "output_type": "execute_result"
    }
   ],
   "source": [
    "'a'+'b'"
   ]
  },
  {
   "cell_type": "code",
   "execution_count": 52,
   "metadata": {
    "collapsed": false
   },
   "outputs": [
    {
     "data": {
      "text/plain": [
       "[1, 2]"
      ]
     },
     "execution_count": 52,
     "metadata": {},
     "output_type": "execute_result"
    }
   ],
   "source": [
    "[1]+[2]"
   ]
  },
  {
   "cell_type": "markdown",
   "metadata": {},
   "source": [
    "mais comment diantre est-ce possible? grace aux methodes spéciales (aussi appelées **dunder methods**). Nous en avons déjà vu une: \\_\\_init\\_\\_ Vous avez déjà du remarquer que la chose suivante"
   ]
  },
  {
   "cell_type": "code",
   "execution_count": 57,
   "metadata": {
    "collapsed": false
   },
   "outputs": [
    {
     "data": {
      "text/plain": [
       "<__main__.Manager at 0x7f6e80097f98>"
      ]
     },
     "execution_count": 57,
     "metadata": {},
     "output_type": "execute_result"
    }
   ],
   "source": [
    "mgr_1"
   ]
  },
  {
   "cell_type": "markdown",
   "metadata": {},
   "source": [
    "alors que, par contraste: "
   ]
  },
  {
   "cell_type": "code",
   "execution_count": 58,
   "metadata": {
    "collapsed": false
   },
   "outputs": [
    {
     "data": {
      "text/plain": [
       "3"
      ]
     },
     "execution_count": 58,
     "metadata": {},
     "output_type": "execute_result"
    }
   ],
   "source": [
    "a=3\n",
    "a"
   ]
  },
  {
   "cell_type": "markdown",
   "metadata": {},
   "source": [
    "dans le cas d'un objet int, la valeur numérique est printé sous la forme d'une string. Dotons notre classe de cette fonction. "
   ]
  },
  {
   "cell_type": "code",
   "execution_count": 76,
   "metadata": {
    "collapsed": true
   },
   "outputs": [],
   "source": [
    "class Salarie:\n",
    "    \n",
    "    def __init__(self, prenom, nom, paye):   \n",
    "        self.prenom = prenom\n",
    "        self.nom = nom\n",
    "        self.paye = paye\n",
    "        self.email = prenom+'.'+nom+'@compagny.com'\n",
    "    \n",
    "    def augmentation(self):   \n",
    "        self.paye = int(self.paye * self.taux_annuel)\n",
    "    \n",
    "    def __str__(self): \n",
    "        #return(print(self.prenom, self.nom, str(self.paye)))  # marche mais avec une erreur\n",
    "        return '{} - {}'.format(self.prenom, self.nom)"
   ]
  },
  {
   "cell_type": "code",
   "execution_count": 77,
   "metadata": {
    "collapsed": true
   },
   "outputs": [],
   "source": [
    "s_1 = Salarie('Marie','Milo', 70000)"
   ]
  },
  {
   "cell_type": "code",
   "execution_count": 78,
   "metadata": {
    "collapsed": false
   },
   "outputs": [
    {
     "data": {
      "text/plain": [
       "'Marie - Milo'"
      ]
     },
     "execution_count": 78,
     "metadata": {},
     "output_type": "execute_result"
    }
   ],
   "source": [
    "str(s_1)"
   ]
  },
  {
   "cell_type": "markdown",
   "metadata": {},
   "source": [
    "**Exercice** Modifiez la classe de telle manière que + additionne la paye de deux *objets employés* (If I may)"
   ]
  },
  {
   "cell_type": "code",
   "execution_count": 83,
   "metadata": {
    "collapsed": false
   },
   "outputs": [
    {
     "ename": "SyntaxError",
     "evalue": "invalid syntax (<ipython-input-83-83a6a1cfb05c>, line 12)",
     "output_type": "error",
     "traceback": [
      "\u001b[0;36m  File \u001b[0;32m\"<ipython-input-83-83a6a1cfb05c>\"\u001b[0;36m, line \u001b[0;32m12\u001b[0m\n\u001b[0;31m    def __add__(None): ###CODE À COMPLÉTER\u001b[0m\n\u001b[0m                   ^\u001b[0m\n\u001b[0;31mSyntaxError\u001b[0m\u001b[0;31m:\u001b[0m invalid syntax\n"
     ]
    }
   ],
   "source": [
    "class Salarie:\n",
    "    \n",
    "    def __init__(self, prenom, nom, paye):   \n",
    "        self.prenom = prenom\n",
    "        self.nom = nom\n",
    "        self.paye = paye\n",
    "        self.email = prenom+'.'+nom+'@compagny.com'\n",
    "    \n",
    "    def augmentation(self):   \n",
    "        self.paye = int(self.paye * self.taux_annuel)\n",
    "        \n",
    "    def __add__(None): ###CODE À COMPLÉTER\n",
    "        return None ###CODE À COMPLÉTER\n"
   ]
  },
  {
   "cell_type": "code",
   "execution_count": 82,
   "metadata": {
    "collapsed": false
   },
   "outputs": [
    {
     "data": {
      "text/plain": [
       "120000"
      ]
     },
     "execution_count": 82,
     "metadata": {},
     "output_type": "execute_result"
    }
   ],
   "source": [
    "dev_1 = Salarie('Gerard','Bouchard', 50000)\n",
    "dev_2 = Salarie('Marie','Milo', 70000)\n",
    "\n",
    "dev_1 + dev_2"
   ]
  },
  {
   "cell_type": "markdown",
   "metadata": {},
   "source": [
    "Let's have a look at (this)[https://docs.python.org/3/reference/datamodel.html#coroutine-objects]"
   ]
  },
  {
   "cell_type": "markdown",
   "metadata": {},
   "source": [
    "### Property decorators (again)\n",
    "\n",
    "Notre code est pas mal mais \n",
    "\n",
    "- changer le nom de l'employer -> changer le mail \n",
    "- désinstancier un employer"
   ]
  },
  {
   "cell_type": "code",
   "execution_count": null,
   "metadata": {
    "collapsed": true
   },
   "outputs": [],
   "source": []
  }
 ],
 "metadata": {
  "kernelspec": {
   "display_name": "Python 3",
   "language": "python",
   "name": "python3"
  },
  "language_info": {
   "codemirror_mode": {
    "name": "ipython",
    "version": 3
   },
   "file_extension": ".py",
   "mimetype": "text/x-python",
   "name": "python",
   "nbconvert_exporter": "python",
   "pygments_lexer": "ipython3",
   "version": "3.5.3"
  }
 },
 "nbformat": 4,
 "nbformat_minor": 2
}
