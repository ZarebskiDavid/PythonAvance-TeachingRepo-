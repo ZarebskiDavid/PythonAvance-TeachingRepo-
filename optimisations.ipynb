{
 "cells": [
  {
   "cell_type": "markdown",
   "metadata": {},
   "source": [
    "# Optimisations\n",
    "\n"
   ]
  },
  {
   "cell_type": "markdown",
   "metadata": {},
   "source": [
    "## De la nécessité d'éviter les bloucles autant que possible: Le Temps, cette ressource précieuse\n",
    "\n",
    "Avant de commencer, j'aimerais débunker une croyance assez répandue, même au sein des devs, selon laquelle python serait, pour des raisons structurelles et inaccessibles, lent lourd et inefficient pour des applications à taille réelle. Deux niveau de réponses\n",
    "\n",
    "Premièrement, ce problème n'est pas propre à Python mais concerne l'ensemble des langages de haut degré d'abstraction (trad \"vous voulez du rapide, codez en C\")\n",
    "\n",
    "Deuxièmement, le problème ne provient pas tant du langage en lui-même que du fait que les opérations précises de l'interpréteurs ne nous étant pas accessibles, deux <b>implémentations différentes</b> de la même tâche peuvent demander un temps assez différent alors même qu'elle paraissent \"conceptuellement identiques\". \n",
    "\n",
    "Prenons un exemple en nous dotant tout d'abord d'un moyen de benchmarker nos opérations avant de chercher à optimiser notre code"
   ]
  },
  {
   "cell_type": "code",
   "execution_count": 2,
   "metadata": {},
   "outputs": [],
   "source": [
    "from time import time\n",
    "import math\n",
    "import numpy as np\n",
    "\n",
    "def Benchmark(fonction): \n",
    "    start = time()\n",
    "    fonction\n",
    "    end = time()\n",
    "    return (end - start)"
   ]
  },
  {
   "cell_type": "code",
   "execution_count": 3,
   "metadata": {},
   "outputs": [
    {
     "name": "stdout",
     "output_type": "stream",
     "text": [
      "[[0.04233015 0.98465436 0.11687597]\n",
      " [0.23556844 0.64372906 0.70559537]\n",
      " [0.7630281  0.31409605 0.04663236]\n",
      " ...\n",
      " [0.33749523 0.67348204 0.12491942]\n",
      " [0.9503992  0.89055991 0.5008607 ]\n",
      " [0.33859453 0.3364985  0.84479945]]\n"
     ]
    }
   ],
   "source": [
    "dataTest = np.random.rand(600000,3) # on génère 600000*3 points de données x,y,z (vecteur 2-D)\n",
    "dataTestAsList = dataTest.tolist()  # on en fait une liste pour les besoins de l'exemple\n",
    "print(dataTest)"
   ]
  },
  {
   "cell_type": "markdown",
   "metadata": {},
   "source": [
    "Prenons une fonction un peu lourde à calculer pour comparer deux approches: l'une itérative, l'autre vectorisée\n",
    "\n",
    "$f(x,y,z)= \\frac{x^{2}-\\sqrt{y}}{\\sqrt{x+y}} \\times z$"
   ]
  },
  {
   "cell_type": "code",
   "execution_count": 4,
   "metadata": {},
   "outputs": [
    {
     "name": "stdout",
     "output_type": "stream",
     "text": [
      "temps nécessaire:  0.8130707740783691\n",
      "[-0.11423527993382593, -0.5619689797534317, 0.000978128863573517, -0.3067454589218615, -0.2289811936387017, -0.06242329610724, -0.14181208988963495, -0.009474164723078802, -0.04004719281138601, -0.03135133504588271, 0.17353468771358765, -0.31355334716551664, -0.2860803653087626, -0.39253659523073847, -0.09664010398628255]\n",
      "600000\n"
     ]
    }
   ],
   "source": [
    "resultsList = [] # on crée une liste vide\n",
    "start = time() # on lance le chrono\n",
    "for i in dataTestAsList:     # pour chaque ligne\n",
    "    #result = (i[0]**-math.sqrt(i[1])) *i[2] / math.sqrt(i[0]+i[1])\n",
    "    result = (i[0]**2-math.sqrt(i[1]))/math.sqrt(i[0]+i[1])*i[2]\n",
    "    resultsList.append(result)\n",
    "\n",
    "end = time() # on arrête le chrono\n",
    "\n",
    "print(\"temps nécessaire: \",end - start)\n",
    "print(resultsList[:15])          # on imprime les 15 premiers résultats\n",
    "print(len(resultsList))"
   ]
  },
  {
   "cell_type": "code",
   "execution_count": 5,
   "metadata": {},
   "outputs": [
    {
     "name": "stdout",
     "output_type": "stream",
     "text": [
      "temps nécessaire:  0.044678449630737305\n",
      "[-0.11423528 -0.56196898  0.00097813 ... -0.08780699 -0.01492674\n",
      " -0.47855764]\n",
      "600000\n"
     ]
    }
   ],
   "source": [
    "x = dataTest[:,0] # premier vecteur = première colonne de la matrice\n",
    "y = dataTest[:,1] # second vecteur = seconde colonne de la matrice\n",
    "z = dataTest[:,2]\n",
    "\n",
    "start = time() # on lance le chrono\n",
    "results = np.multiply(np.divide(np.power(x,2) - np.sqrt(y) ,np.sqrt(x+y) ),z)\n",
    "end = time() # on arrête le chrono\n",
    "print(\"temps nécessaire: \",end - start)\n",
    "print(results)\n",
    "print(len(results))"
   ]
  },
  {
   "cell_type": "markdown",
   "metadata": {},
   "source": [
    "On voit assez aisément que, même pour ce petit dataset de trois valeurs x y z de 600000 points de donnée, l'<b>approche iterative</b> par les bloucles prend plus de 10 fois plus de temps que l'<b>approche vectorielle</b> permise par numpy pour le <b>même calcul</b>. Il existe une correpondance intuitive entre:\n",
    "<ul>\n",
    "<li> $a*b$ et np.multiply(a,b)\n",
    "<li> $a**2$ et np.power(x,2)\n",
    "<li> $a+b$ et np.sum((x,y), axis=0)\n",
    "</ul>\n",
    "\n",
    "Toutefois, lorsque a et b peuvent s'apparenter à des <b>vecteurs</b> de même longueur, du point de vue de l'interpréteur, cela fait une ÉNORME différence de réaliser les opérations de manière vectorielle plutôt qu'élément par élément (<i>element-wise</i>). La leçon a retenir est double: \n",
    "<ul>\n",
    "<li> aussi souvent que possible, si vous le pouvez, <b>évitez de recourir à des boucles lorsque vous avez des données structurées</b>\n",
    "<li> ce n'est pas parceque vous avec l'impression de décomposer une opération dans votre code que vous facilitez la tâche de l'interpréteur (il y a une couche d'abstraction entre son monde et le vôtre)\n",
    "</ul>\n",
    "\n",
    "Nous verrons en outre que la vectorisation n'est pas le seul moyen d'optimiser un code"
   ]
  },
  {
   "cell_type": "markdown",
   "metadata": {},
   "source": [
    "## De l'importance des contextes\n",
    "\n",
    "Une autre habitude idiomatique à prendre en python consiste à recourir aux contextes (**with**). Classiquement, pour ouvrir un fichier et écrire sur ce dernier, nous dirions plus volontiers"
   ]
  },
  {
   "cell_type": "code",
   "execution_count": null,
   "metadata": {},
   "outputs": [],
   "source": [
    "with open('test.txt', 'w') as f: \n",
    "    f.write('Lorem ipsum dolor sit amet, consectetur adipiscing elit, sed do eiusmod tempor incididunt ut labore et dolore magna aliqua.')"
   ]
  },
  {
   "cell_type": "markdown",
   "metadata": {},
   "source": [
    "Pourquoi recourrir aux contextes:\n",
    "- dans un soucis d'efficience: l'objet f n'est en mémoire que durant l'exécution de ce context (la RAM est une ressource précieuse)\n",
    "- dans un soucis de \"propreté\": le fichier est ici systématiquement fermé à la fin de la méthode write sans que nous aillons eu à l'expliciter.\n",
    "\n",
    "Appliquons cela à une classe d'objet crée par nos soins. Concevons un simple objet qui scanne le contenu d'un dossier à intervalle régulier à la recherche de nouveaux fichiers. (un genre de \"what just happend during this period\")"
   ]
  },
  {
   "cell_type": "code",
   "execution_count": null,
   "metadata": {},
   "outputs": [],
   "source": [
    "import os\n",
    "import time\n",
    "\n",
    "class DirWatcher():\n",
    "    def __init__(self,path,files=[],new_files = []):\n",
    "        self.path = path\n",
    "        #self.delay = delay\n",
    "        self.files = os.listdir(path)\n",
    "        self.new_files = new_files\n",
    "        print('initial files: ', self.files)    \n",
    "    \n",
    "    def __enter__(self):   \n",
    "        pass\n",
    "                                   \n",
    "    def __exit__(self, exc_type, exc_value, tb):\n",
    "        for f in os.listdir(self.path):\n",
    "            if f not in self.files:\n",
    "                self.new_files.append(f)\n",
    "        print('new files: ', self.new_files)\n",
    "          "
   ]
  },
  {
   "cell_type": "code",
   "execution_count": null,
   "metadata": {},
   "outputs": [],
   "source": [
    "with DirWatcher('/home/david/Documents') as a:\n",
    "    time.sleep(10)\n",
    "    "
   ]
  },
  {
   "cell_type": "markdown",
   "metadata": {},
   "source": [
    "## It is Easier to Ask for Forgiveness than Permission\n",
    "\n",
    "Comprenez par là que le code en python fonctionne avec le postulat que les variables, fichiers, paths, etc nécessaires à l'exécution existent (Meinung, sort de ce code!!!!). D'où deux questions: \n",
    "\n",
    "- qu'en est-il lorsque tel n'est pas le cas ?\n",
    "- comment distinguer les cas grave (nécessitant de stoper le code) des cas benins?\n",
    "\n",
    "C'est ici que les structures en **try** ....**except** interviennent. Comparons:"
   ]
  },
  {
   "cell_type": "code",
   "execution_count": null,
   "metadata": {},
   "outputs": [],
   "source": [
    "import os\n",
    "\n",
    "if os.path.exists(\"file.txt\"):\n",
    "    os.unlink(\"file.txt\") # supprime le fichier"
   ]
  },
  {
   "cell_type": "markdown",
   "metadata": {},
   "source": [
    "notez que le fichier file.txt n'existe pas dans le répertoire courant. Pourtant, par la seule exécution du code, nous n'aurions jamais pu nous en rendre compte. Pour cette raison, il convient de partir du principe que le fichier existe et traiter tout problème comme une exception"
   ]
  },
  {
   "cell_type": "code",
   "execution_count": null,
   "metadata": {},
   "outputs": [],
   "source": [
    "try:\n",
    "    os.unlink(\"file.txt\")\n",
    "# raised when file does not exist\n",
    "except OSError:\n",
    "    print(\"file does not exist\")\n",
    "    pass"
   ]
  },
  {
   "cell_type": "markdown",
   "metadata": {},
   "source": [
    "## Du besoin d'erreurs claires\n",
    "\n",
    "\n",
    "blablablabla"
   ]
  },
  {
   "cell_type": "code",
   "execution_count": null,
   "metadata": {},
   "outputs": [],
   "source": [
    "try: \n",
    "    open(\"file.txt\")\n",
    "except: \n",
    "    print(\"file does not exist\")"
   ]
  },
  {
   "cell_type": "code",
   "execution_count": null,
   "metadata": {},
   "outputs": [],
   "source": [
    "open(\"file.txt\")"
   ]
  },
  {
   "cell_type": "code",
   "execution_count": null,
   "metadata": {},
   "outputs": [],
   "source": [
    "try: \n",
    "    open(\"notebook.tex\")\n",
    "    var = non_existent_var\n",
    "except FileNotFoundError: # voila comment distinguer les erreurs par type\n",
    "    print(\"file does not exist\")"
   ]
  },
  {
   "cell_type": "code",
   "execution_count": null,
   "metadata": {},
   "outputs": [],
   "source": []
  }
 ],
 "metadata": {
  "kernelspec": {
   "display_name": "Python 3",
   "language": "python",
   "name": "python3"
  },
  "language_info": {
   "codemirror_mode": {
    "name": "ipython",
    "version": 3
   },
   "file_extension": ".py",
   "mimetype": "text/x-python",
   "name": "python",
   "nbconvert_exporter": "python",
   "pygments_lexer": "ipython3",
   "version": "3.5.3"
  }
 },
 "nbformat": 4,
 "nbformat_minor": 2
}
