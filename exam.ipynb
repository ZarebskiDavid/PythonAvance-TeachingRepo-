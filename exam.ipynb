{
 "cells": [
  {
   "cell_type": "markdown",
   "metadata": {},
   "source": [
    "# Python avancé: Examen final\n",
    "\n",
    "Compléter le notebook suivant avant de <a href=\"mailto:zarebskidavid@gmail.com?subject=ExamPython\"> me l'envoyer </a> avant midi. Nous allons couvrir les différents modules du cours à l'aide d'un exemple pratique qui nous servira de fil rouge.\n",
    "\n",
    "Vous disposez d'une courte base de données contenant les urls renvoyées par une requête google. Votre mission, si vous l'acceptez, retrouver l'intitulé de la requête sur la base d'une analyse linguistique du contenu des pages. Nous allons pour cela procéder par étapes. Vous aurez besoin des librairies suivantes:\n"
   ]
  },
  {
   "cell_type": "code",
   "execution_count": null,
   "metadata": {},
   "outputs": [],
   "source": [
    "import pandas as pd\n",
    "from requests import Request, urlopen\n",
    "from bs4 import BeautifulSoup\n",
    "from multiprocessing.dummy import Pool as ThreadPool "
   ]
  },
  {
   "cell_type": "markdown",
   "metadata": {},
   "source": [
    "## Parsing des pages\n",
    "### Chargement des données\n",
    "Commençons par charger nos données"
   ]
  },
  {
   "cell_type": "code",
   "execution_count": null,
   "metadata": {},
   "outputs": [],
   "source": [
    "data = pd.read_csv(\"requests.csv\")\n",
    "data"
   ]
  },
  {
   "cell_type": "markdown",
   "metadata": {},
   "source": [
    "et assurons nous du type de données contenue dans \"links\""
   ]
  },
  {
   "cell_type": "code",
   "execution_count": null,
   "metadata": {},
   "outputs": [],
   "source": [
    "None #CODE À COMPLÉTER"
   ]
  },
  {
   "cell_type": "markdown",
   "metadata": {},
   "source": [
    "expected output: <code>dtype('O')</code>\n",
    "\n",
    "## parsing des pages\n",
    "\n",
    "Vous pouvez désormais créer, à l'aide d'urllib et et BeautifulSoup, une fonction qui associera à chaque url le parsing de son code "
   ]
  },
  {
   "cell_type": "code",
   "execution_count": null,
   "metadata": {},
   "outputs": [],
   "source": [
    "def ParsePage(p): \n",
    "    None #CODE À COMPLÉTER\n",
    "    None #CODE À COMPLÉTER\n",
    "    None #CODE À COMPLÉTER\n",
    "    None #CODE À COMPLÉTER\n",
    "\n",
    "print(type(ParsePage(data.iloc[1][\"links\"])))"
   ]
  },
  {
   "cell_type": "markdown",
   "metadata": {},
   "source": [
    "expected output: <code> bs4.BeautifulSoup </code>\n",
    "\n",
    "Appliquez maintenant la fonction à l'ensemble de votre dataframe à l'aide d'une <a href= \"https://pandas.pydata.org/pandas-docs/stable/generated/pandas.DataFrame.apply.html\">méthode apply</a> \n",
    "\n",
    "NB:\n",
    "<ul>\n",
    "<li> il est normal que la fonction prenne un peu de temps (quelques secondes) pour tout traiter\n",
    "<li> en cas de timeout error, ne pas en tenir compte et réessayer (\"shit happends\") \n",
    "</ul>"
   ]
  },
  {
   "cell_type": "code",
   "execution_count": null,
   "metadata": {},
   "outputs": [],
   "source": [
    "data[\"parsed\"] = None #CODE À COMPLÉTER\n",
    "print(len(data[\"parsed\"]))"
   ]
  },
  {
   "cell_type": "markdown",
   "metadata": {},
   "source": [
    "expected output: <code>10</code>. Bien, maintenant, implémentons la même opération mais à l'aide cette fois d'une méthode <b>pool.map<b> destinée à paralléliser le traitement "
   ]
  },
  {
   "cell_type": "code",
   "execution_count": null,
   "metadata": {},
   "outputs": [],
   "source": [
    "pool = None #CODE À COMPLÉTER\n",
    "data[\"parsed\"] = None #CODE À COMPLÉTER\n",
    "pool.close() \n",
    "pool.join()"
   ]
  },
  {
   "cell_type": "markdown",
   "metadata": {},
   "source": [
    "Récupérez maintenant les données textuelles des pages à l'aide des fonctions de Beautiful soup. La fonction GetText doit vous renvoyer une <b>chaine de charactère</b> correspondant à chaque paragraphe contenant l'intégralité du texte entre les balises p. Vous l'appliquerez à data[\"text\"] de manière parallélisée.\n",
    "\n",
    "Attention: nous voulons une <b>chaine de caratère</b>, pas une liste de <b>chaine de charactères</b>. (googelez pour des méthodes de convertion)"
   ]
  },
  {
   "cell_type": "code",
   "execution_count": null,
   "metadata": {},
   "outputs": [],
   "source": [
    "def GetText(p): \n",
    "    None #CODE À COMPLÉTER\n",
    "    None #CODE À COMPLÉTER\n",
    "    None #CODE À COMPLÉTER"
   ]
  },
  {
   "cell_type": "code",
   "execution_count": null,
   "metadata": {},
   "outputs": [],
   "source": [
    "pool = ThreadPool(4) \n",
    "data[\"text\"] = None #CODE À COMPLÉTER\n",
    "\n",
    "pool.close() \n",
    "pool.join()"
   ]
  },
  {
   "cell_type": "code",
   "execution_count": null,
   "metadata": {},
   "outputs": [],
   "source": [
    "print(data.iloc[6][\"text\"])\n",
    "print(type(data.iloc[6][\"text\"]))"
   ]
  },
  {
   "cell_type": "markdown",
   "metadata": {},
   "source": [
    "expected output: <code>A French patient claimed that</code>....blabla\n",
    "\n",
    "expected output: <code>str</code>.\n",
    "\n",
    "## Analyse sémantique des ressources textuelles\n",
    "\n",
    "Maintenant que nous disposons des ressources textuelles, identitifions ce qu'elles ont de commun pour trouver la requête. Avant de nous emm***** à identifier les noms communs pour comparer, God knows how, la proportion de leur occurrence dans notre corpus VS la probabilité de leur occurrence dans un texte lambda, essayons une méthode built-in qui a fait ses preuves\n",
    "\n",
    "L'un des algorithmes d'extraction de mot-clef qui a dernièrement fait sont chemin n'est autre que la RAKE (Rapid Automatic Keyword Extraction) <a href= \"http://textminingonline.com/getting-started-with-keyword-extraction\"> sources </a>. Il existe un module exclusivement dédié à cette fonction que vous pourrez installer avec;\n",
    "\n",
    "<code > pip3 install rake_nltk </code>\n",
    "\n",
    "Nous allons d'abord aggréger l'ensemble des données de data[\"text\"] pour obtenir une unique chaine de charactère (astuce: faite en d'abord une liste puis utilisez une méthode join pour list -> str (Google est votre meilleur ami))"
   ]
  },
  {
   "cell_type": "code",
   "execution_count": null,
   "metadata": {},
   "outputs": [],
   "source": [
    "Corpus = None #CODE À COMPLÉTER\n",
    "\n",
    "print(len(Corpus))"
   ]
  },
  {
   "cell_type": "markdown",
   "metadata": {},
   "source": [
    "[expected output =] <code>63060</code>\n",
    "\n",
    "Importons maintenant rake"
   ]
  },
  {
   "cell_type": "code",
   "execution_count": null,
   "metadata": {},
   "outputs": [],
   "source": [
    "from rake_nltk import Rake\n",
    "r = Rake()"
   ]
  },
  {
   "cell_type": "code",
   "execution_count": null,
   "metadata": {},
   "outputs": [],
   "source": [
    "r.extract_keywords_from_text(Corpus)\n",
    "keys = r.get_ranked_phrases()\n",
    "len(keys)"
   ]
  },
  {
   "cell_type": "markdown",
   "metadata": {},
   "source": [
    "[expected output] <code> 2384 </code>"
   ]
  },
  {
   "cell_type": "code",
   "execution_count": null,
   "metadata": {},
   "outputs": [],
   "source": [
    "keys[:10]"
   ]
  },
  {
   "cell_type": "markdown",
   "metadata": {},
   "source": [
    "Sans pouvoir être formel au mot prêt, vous pouvez déjà vous faire une bonne idée de ce que contenait la requête Google.\n",
    "\n",
    "## Valorisation des données\n",
    "Maintenant que nous avons à peu prêt identifé ce dont il retourne, nous pourrions aller plus loin dans la valorisation de ces données. Nous pourrions, par exemple, récupérer l'ensemble des images qui apparaissent sur ces pages, les traiter et sauvegarder ces résultats dans un dossier à part en vu d'un futur traitement par un algorithme de récognition d'image. \n",
    "\n",
    "Il nous faut, tout d'abord\n",
    "<ul>\n",
    "<li> l'ensemble des urls d'img de notre code SSI celles ci commencent par HTTP. Nous prendrons soin d'éviter les images d'attribut (alt) vide afin de ne pas récupérer les images des boutons et autres items de l'environnement du site.\n",
    "<li> l'ensemble des alt de ces mêmes images (qui sait, ça pourrai servir)\n",
    "</ul>\n",
    "\n",
    "créez les deux fonctions correspondantes exploitant des définitions de listes <b>par compréhension</b> et appliquez les sur le data set à l'aide d'une méthode <b>pool.map</b>"
   ]
  },
  {
   "cell_type": "code",
   "execution_count": null,
   "metadata": {},
   "outputs": [],
   "source": [
    "def GetImg(p):\n",
    "    None #CODE À COMPLÉTER\n",
    "    None #CODE À COMPLÉTER\n",
    "\n",
    "def GetImgNames(p):\n",
    "    None #CODE À COMPLÉTER\n",
    "    None #CODE À COMPLÉTER"
   ]
  },
  {
   "cell_type": "code",
   "execution_count": null,
   "metadata": {},
   "outputs": [],
   "source": [
    "pool = None #CODE À COMPLÉTER\n",
    "\n",
    "data[\"imgLinks\"] = None #CODE À COMPLÉTER\n",
    "data[\"imgNames\"] = None #CODE À COMPLÉTER\n",
    "\n",
    "pool.close() \n",
    "pool.join()"
   ]
  },
  {
   "cell_type": "code",
   "execution_count": null,
   "metadata": {},
   "outputs": [],
   "source": [
    "print(data.iloc[2][\"imgLinks\"])\n",
    "print(bool(len(data.iloc[3][\"imgLinks\"]) == len(data.iloc[3][\"imgNames\"])))"
   ]
  },
  {
   "cell_type": "markdown",
   "metadata": {},
   "source": [
    "[expected output] <code> []\n",
    "                 True</code>\n",
    "\n",
    "Téléchargons maintenant l'ensemble des images à l'aide de wget dans un dossier que nous appellerons imgParsed. Installez tout d'abord wget:\n",
    "\n",
    "<code>pip3 install wget</code>\n",
    "\n",
    "Puis à l'aide de la méthode de votre choix (itération par une liste, apply sur la série data[\"imgLinks\"] (il va falloir ruser)), télécharger toutes les images (ou à défaut, si le serveur fait chier, celles que vous pouvez)"
   ]
  },
  {
   "cell_type": "code",
   "execution_count": null,
   "metadata": {},
   "outputs": [],
   "source": [
    "Img = data[\"imgLinks\"] \n",
    "Img"
   ]
  },
  {
   "cell_type": "markdown",
   "metadata": {
    "collapsed": true
   },
   "source": [
    "## Python orienté objet\n",
    "\n",
    "contexte: serveur-client. Complétez le code du serveur pour récupérer les messages envoyés par le client et les afficher. Conseil (copiez le code du client dans un script à part afin de pouvoir faire tourner simultanément serveur et client)"
   ]
  },
  {
   "cell_type": "code",
   "execution_count": null,
   "metadata": {},
   "outputs": [],
   "source": [
    "# serveur:::\n",
    "import socket\n",
    "import sys\n",
    "import select\n",
    "\n",
    "# server. Principale fonctions\n",
    "# revevoir les ordres de telechargement des clients authentifies\n",
    "# donner une liste structures des morceaux disponibles  \n",
    "\n",
    "class MonServer():\n",
    "    def __init__(self, ip = \"\", port = 5046):\n",
    "        self.server = socket.socket(socket.AF_INET, socket.SOCK_STREAM)\n",
    "\n",
    "        try:\n",
    "            self.server.bind( (ip, port) )\n",
    "            pass\n",
    "        except OSError :\n",
    "            self.error = \"The server socket has been shuted down.\"\n",
    "\n",
    "        self.server.listen() # on commence a ecouter\n",
    "        #A flag to know when to shut down thread loops.\n",
    "        self.running = True\n",
    "\n",
    "        self.connect_with_client()\n",
    "\n",
    "    def connect_with_client(self):\n",
    "        connexion, address = self.server.accept()\n",
    "        print('connected to ', address)\n",
    "        None # CODE À COMPLETER\n",
    "        return(None) # CODE À COMPLETER\n",
    "\n",
    "    def get_instructions(self):\n",
    "        while True:\n",
    "            data = self.connexion.recv(512)\n",
    "            if data !=\"\":\n",
    "                instruction = data.decode()\n",
    "                None # CODE À COMPLETER\n",
    "                return(None) # CODE À COMPLETER\n",
    "\n",
    "\n",
    "    def close_connexion(self):\n",
    "        self.server.close()\n",
    "\n",
    "if __name__ == '__main__':\n",
    "    server = MonServer()\n",
    "    server.get_instructions()\n",
    "    print(server.instruction)"
   ]
  },
  {
   "cell_type": "code",
   "execution_count": null,
   "metadata": {},
   "outputs": [],
   "source": [
    "import socket\n",
    "import sys \n",
    "import time\n",
    " \n",
    "class Client():\n",
    "    def __init__(self, ip = \"127.0.0.1\", port = 5050):\n",
    "        self.server = socket.socket(socket.AF_INET, socket.SOCK_STREAM)\n",
    "\n",
    "        self.server.settimeout(10)\n",
    "\n",
    "        print(\"trying to reach \", ip, \" \", port)\n",
    "\n",
    "        try:\n",
    "            self.server.connect( (ip, port) )\n",
    "            pass\n",
    "\n",
    "        except OSError :\n",
    "            self.error = \"The client socket has been shuted down.\"\n",
    "            return\n",
    "\n",
    "        except ConnectionResetError:\n",
    "            self.error = \"The client socket has been forcibly reseted.\"\n",
    "            return\n",
    "\n",
    "        except ConnectionRefusedError:\n",
    "            self.error = \"The server socket refuses the connection.\"\n",
    "            return\n",
    "\n",
    "    def sendMSG(self, msg):\n",
    "        try:\n",
    "            self.server.send(msg.encode()) # send instruction\n",
    "        except:\n",
    "            print(\"instruction couldn't be sent\")\n",
    "\n",
    "\n",
    "    def close_connexion(self):\n",
    "        self.server.close()\n",
    "\n",
    "if __name__ == '__main__':\n",
    "    connexion = Client(\"127.0.0.1\", 5046)\n",
    "    connexion.sendMSG('test, one two one two')\n",
    "    connexion.close_connexion()"
   ]
  }
 ],
 "metadata": {
  "kernelspec": {
   "display_name": "Python 3",
   "language": "python",
   "name": "python3"
  },
  "language_info": {
   "codemirror_mode": {
    "name": "ipython",
    "version": 3
   },
   "file_extension": ".py",
   "mimetype": "text/x-python",
   "name": "python",
   "nbconvert_exporter": "python",
   "pygments_lexer": "ipython3",
   "version": "3.5.3"
  }
 },
 "nbformat": 4,
 "nbformat_minor": 2
}
