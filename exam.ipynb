{
 "cells": [
  {
   "cell_type": "markdown",
   "metadata": {},
   "source": [
    "# Python avancé: Examen final\n",
    "\n",
    "Compléter le notebook suivant avant de <a href=\"mailto:zarebskidavid@gmail.com?subject=ExamPython\"> me l'envoyer </a> avant midi. Nous allons couvrir les différents modules du cours à l'aide d'un exemple pratique qui nous servira de fil rouge.\n",
    "\n",
    "Vous disposez d'une courte base de données contenant les urls renvoyées par une requête google. Votre mission, si vous l'acceptez, retrouver l'intitulé de la requête sur la base d'une analyse linguistique du contenu des pages. Nous allons pour cela procéder par étapes. Vous aurez besoin des librairies suivantes:\n"
   ]
  },
  {
   "cell_type": "code",
   "execution_count": 1,
   "metadata": {},
   "outputs": [],
   "source": [
    "import pandas as pd\n",
    "from urllib.request import Request, urlopen\n",
    "from bs4 import BeautifulSoup\n",
    "from multiprocessing.dummy import Pool as ThreadPool "
   ]
  },
  {
   "cell_type": "markdown",
   "metadata": {},
   "source": [
    "## Parsing des pages\n",
    "### Chargement des données\n",
    "Commençons par charger nos données"
   ]
  },
  {
   "cell_type": "code",
   "execution_count": 2,
   "metadata": {},
   "outputs": [
    {
     "data": {
      "text/html": [
       "<div>\n",
       "<table border=\"1\" class=\"dataframe\">\n",
       "  <thead>\n",
       "    <tr style=\"text-align: right;\">\n",
       "      <th></th>\n",
       "      <th>links</th>\n",
       "    </tr>\n",
       "  </thead>\n",
       "  <tbody>\n",
       "    <tr>\n",
       "      <th>0</th>\n",
       "      <td>http://www.naturalnews.com/047993_hepatitis_B_...</td>\n",
       "    </tr>\n",
       "    <tr>\n",
       "      <th>1</th>\n",
       "      <td>https://www.ncbi.nlm.nih.gov/pmc/articles/PMC4...</td>\n",
       "    </tr>\n",
       "    <tr>\n",
       "      <th>2</th>\n",
       "      <td>https://www.ncbi.nlm.nih.gov/pubmed/12901584</td>\n",
       "    </tr>\n",
       "    <tr>\n",
       "      <th>3</th>\n",
       "      <td>http://news.bbc.co.uk/2/hi/health/3651782.stm</td>\n",
       "    </tr>\n",
       "    <tr>\n",
       "      <th>4</th>\n",
       "      <td>http://www.vaccinesafety.edu/hbvandms.htm</td>\n",
       "    </tr>\n",
       "    <tr>\n",
       "      <th>5</th>\n",
       "      <td>https://www.inquisitr.com/1703216/new-study-sh...</td>\n",
       "    </tr>\n",
       "    <tr>\n",
       "      <th>6</th>\n",
       "      <td>http://www.sciencemag.org/news/2017/06/decisio...</td>\n",
       "    </tr>\n",
       "    <tr>\n",
       "      <th>7</th>\n",
       "      <td>http://edition.cnn.com/2017/06/21/health/vacci...</td>\n",
       "    </tr>\n",
       "    <tr>\n",
       "      <th>8</th>\n",
       "      <td>http://www.sciencemediacentre.org/vaccine-ruling/</td>\n",
       "    </tr>\n",
       "    <tr>\n",
       "      <th>9</th>\n",
       "      <td>http://www.iflscience.com/health-and-medicine/...</td>\n",
       "    </tr>\n",
       "  </tbody>\n",
       "</table>\n",
       "</div>"
      ],
      "text/plain": [
       "                                               links\n",
       "0  http://www.naturalnews.com/047993_hepatitis_B_...\n",
       "1  https://www.ncbi.nlm.nih.gov/pmc/articles/PMC4...\n",
       "2       https://www.ncbi.nlm.nih.gov/pubmed/12901584\n",
       "3      http://news.bbc.co.uk/2/hi/health/3651782.stm\n",
       "4          http://www.vaccinesafety.edu/hbvandms.htm\n",
       "5  https://www.inquisitr.com/1703216/new-study-sh...\n",
       "6  http://www.sciencemag.org/news/2017/06/decisio...\n",
       "7  http://edition.cnn.com/2017/06/21/health/vacci...\n",
       "8  http://www.sciencemediacentre.org/vaccine-ruling/\n",
       "9  http://www.iflscience.com/health-and-medicine/..."
      ]
     },
     "execution_count": 2,
     "metadata": {},
     "output_type": "execute_result"
    }
   ],
   "source": [
    "data = pd.read_csv(\"requests.csv\")\n",
    "data"
   ]
  },
  {
   "cell_type": "markdown",
   "metadata": {},
   "source": [
    "et assurons nous du type de données contenue dans \"links\""
   ]
  },
  {
   "cell_type": "code",
   "execution_count": 3,
   "metadata": {},
   "outputs": [
    {
     "data": {
      "text/plain": [
       "dtype('O')"
      ]
     },
     "execution_count": 3,
     "metadata": {},
     "output_type": "execute_result"
    }
   ],
   "source": [
    "None #CODE À COMPLÉTER"
   ]
  },
  {
   "cell_type": "markdown",
   "metadata": {},
   "source": [
    "expected output: <code>dtype('O')</code>\n",
    "\n",
    "## parsing des pages\n",
    "\n",
    "Vous pouvez désormais créer, à l'aide d'urllib et et BeautifulSoup, une fonction qui associera à chaque url le parsing de son code "
   ]
  },
  {
   "cell_type": "code",
   "execution_count": 4,
   "metadata": {},
   "outputs": [
    {
     "name": "stdout",
     "output_type": "stream",
     "text": [
      "<class 'bs4.BeautifulSoup'>\n"
     ]
    }
   ],
   "source": [
    "def ParsePage(p): \n",
    "    None #CODE À COMPLÉTER\n",
    "    None #CODE À COMPLÉTER\n",
    "    None #CODE À COMPLÉTER\n",
    "    None #CODE À COMPLÉTER\n",
    "\n",
    "print(type(ParsePage(data.iloc[1][\"links\"])))"
   ]
  },
  {
   "cell_type": "markdown",
   "metadata": {},
   "source": [
    "expected output: <code> bs4.BeautifulSoup </code>\n",
    "\n",
    "Appliquez maintenant la fonction à l'ensemble de votre dataframe à l'aide d'une <a href= \"https://pandas.pydata.org/pandas-docs/stable/generated/pandas.DataFrame.apply.html\">méthode apply</a> \n",
    "\n",
    "NB:\n",
    "<ul>\n",
    "<li> il est normal que la fonction prenne un peu de temps (quelques secondes) pour tout traiter\n",
    "<li> en cas de timeout error, ne pas en tenir compte et réessayer (\"shit happends\") \n",
    "</ul>"
   ]
  },
  {
   "cell_type": "code",
   "execution_count": 5,
   "metadata": {},
   "outputs": [
    {
     "name": "stdout",
     "output_type": "stream",
     "text": [
      "10\n"
     ]
    }
   ],
   "source": [
    "data[\"parsed\"] = None #CODE À COMPLÉTER\n",
    "print(len(data[\"parsed\"]))"
   ]
  },
  {
   "cell_type": "markdown",
   "metadata": {},
   "source": [
    "expected output: <code>10</code>. Bien, maintenant, implémentons la même opération mais à l'aide cette fois d'une méthode <b>pool.map<b> destinée à paralléliser le traitement "
   ]
  },
  {
   "cell_type": "code",
   "execution_count": 6,
   "metadata": {},
   "outputs": [],
   "source": [
    "pool = None #CODE À COMPLÉTER\n",
    "data[\"parsed\"] = None #CODE À COMPLÉTER\n",
    "pool.close() \n",
    "pool.join()"
   ]
  },
  {
   "cell_type": "markdown",
   "metadata": {},
   "source": [
    "Récupérez maintenant les données textuelles des pages à l'aide des fonctions de Beautiful soup. La fonction GetText doit vous renvoyer une <b>chaine de charactère</b> correspondant à chaque paragraphe contenant l'intégralité du texte entre les balises p. Vous l'appliquerez à data[\"text\"] de manière parallélisée.\n",
    "\n",
    "Attention: nous voulons une <b>chaine de caratère</b>, pas une liste de <b>chaine de charactères</b>. (googelez pour des méthodes de convertion)"
   ]
  },
  {
   "cell_type": "code",
   "execution_count": 9,
   "metadata": {},
   "outputs": [],
   "source": [
    "def GetText(p): \n",
    "    None #CODE À COMPLÉTER\n",
    "    None #CODE À COMPLÉTER\n",
    "    None #CODE À COMPLÉTER"
   ]
  },
  {
   "cell_type": "code",
   "execution_count": 10,
   "metadata": {},
   "outputs": [],
   "source": [
    "pool = ThreadPool(4) \n",
    "data[\"text\"] = None #CODE À COMPLÉTER\n",
    "\n",
    "pool.close() \n",
    "pool.join()"
   ]
  },
  {
   "cell_type": "code",
   "execution_count": 11,
   "metadata": {},
   "outputs": [
    {
     "name": "stdout",
     "output_type": "stream",
     "text": [
      "A French patient claimed that a hepatitis B vaccine caused his multiple sclerosis, but scientists say there’s no evidence for such a link.\n",
      "  By Gretchen VogelJun. 27, 2017 , 11:45 AMDid the European Union’s highest court just deal a blow to science? \"Vaccines can be blamed for illness without scientific proof,\" read many headlines about the European Court of Justice’s (ECJ’s) ruling on the case of a French man who claimed that a hepatitis B vaccine caused his multiple sclerosis (MS). Alarmed experts pointed out that no link between the vaccine and MS has ever been established and fretted that the Luxembourg-based court had opened the floodgates to large numbers of spurious lawsuits.But experts on liability law are divided on what the court's decision, announced in a jargon-filled press release on 21 June, will mean for medical product liability in Europe. Dorit Reiss of the University of California, Hastings College of Law in San Francisco says that rather than dealing a blow against science or vaccines, the court sought to balance individuals’ rights against society’s interest in preventing disease. But Jean-Sébastien Borghetti of the Panthéon-Assas University in Paris says the ruling leaves a worrying amount of room for judges in the European Union to ignore certain kinds of scientific evidence.The case involves a French man, called “W” in court documents, who received the three recommended doses of a hepatitis B vaccine between December 1998 and July 1999. In August 1999, W developed symptoms of MS, an autoimmune attack on the protective sheath covering nerves. In 2006, he and his family sued Sanofi Pasteur, the vaccinemaker, claiming that the vaccine had caused the illness. (W died of MS-related complications in 2011.) Other people have made similar claims, but large epidemiological studies have found no connection between the vaccine and MS. W initially won his case. In 2009, the regional court in Nanterre ruled that, because he had no obvious previous health issues and no family history of MS, the appearance of symptoms shortly after the third vaccine dose was sufficient to conclude that the vaccine was the likely cause. In 2011 the Court of Appeal of Versailles overturned that decision, ruling that although W had made a convincing case that the vaccine caused his MS, he hadn’t shown that the vaccine was \"defective,\" as required by liability law because for the population as a whole the vaccine's benefits outweighed its risks.W and his family appealed to the Court of Cassation, France’s highest court, which evaluates whether lower courts have properly applied the law. It ruled that the appeals court decision on whether the vaccine was defective should have weighed the specific facts of W’s case, not the general risks and benefits of the vaccine, and handed the case to the Court of Appeal in Paris. (The French legal system assigns cases to a new court when a decision has been overturned.) The Paris court reached a different verdict: It found that W had not proved the vaccine had caused his MS. The court cited the lack of scientific evidence for a connection between the vaccine and MS, and the fact that the disease process is thought to begin years before symptoms appear—in other words, before W was vaccinated. If you start to have a significant number of court decisions in Europe that regard products as defective because of rare side effects, this could change things significantly.W’s family appealed that ruling to the Court of Cassation as well, which then asked the European court for advice on whether courts can consider a plaintiff’s evidence, even if “medical research does not establish a relationship between the vaccine and the occurrence of a disease.” In other words, says Reiss, if scientific research is inconclusive, can an individual still plead their case with other types of plausible evidence, including circumstantial evidence? The court answered “yes.” At the same time, it said, the burden of proof is still on the plaintiff. Courts have to weigh the evidence in each individual case, and the plaintiff has to prove that they have the “preponderance of evidence,” Reiss notes.The ruling doesn’t mean courts in the European Union are now free to ignore science, Reiss says. A vaccine manufacturer can counter a plaintiff’s circumstantial claims with, for example, epidemiological studies showing no plausible connection. But it puts the responsibility for funding large, expensive studies on a manufacturer, not on an individual who might have been harmed. “That makes a lot of sense,” Reiss says. “You don’t want to force plaintiffs to come up with medical research that doesn’t exist.”Yet Borghetti sees a disturbing precedent in the ECJ ruling that any “abnormal and particularly serious damage” to a recipient could be reason to find a vaccine defective, even if its population-level benefits outweigh the risks. “If you start to have a significant number of court decisions in Europe that regard products as defective because of rare side effects, this could change things significantly.”Just how far-reaching the verdict is will become clear in the years ahead. Paradoxically, it will likely have few consequences for the case that triggered it. The European court's conclusion seems to confirm the Court of Cassation’s rejection of the Versailles court’s ruling, but does not contradict the most recent decision, from Paris, which found that W failed to prove causation. Borghetti says that decision will most likely stand.doi:10.1126/science.aan7019\n",
      "Sep. 28, 2017\n",
      "Sep. 26, 2017\n",
      "Sep. 25, 2017\n",
      "Sep. 25, 2017\n",
      "Sep. 22, 2017More Sifter\n",
      "  Vol 357,\n",
      "\n",
      "      Issue 6358  Table of Contents\n",
      "© 2017 American Association for the Advancement of Science. All rights Reserved. AAAS is a partner of HINARI, AGORA, OARE, PatientInform, CHORUS, CLOCKSS, CrossRef and COUNTER.\n",
      "<class 'str'>\n"
     ]
    }
   ],
   "source": [
    "print(data.iloc[6][\"text\"])\n",
    "print(type(data.iloc[6][\"text\"]))"
   ]
  },
  {
   "cell_type": "markdown",
   "metadata": {},
   "source": [
    "expected output: <code>A French patient claimed that</code>....blabla\n",
    "\n",
    "expected output: <code>str</code>.\n",
    "\n",
    "## Analyse sémantique des ressources textuelles\n",
    "\n",
    "Maintenant que nous disposons des ressources textuelles, identitifions ce qu'elles ont de commun pour trouver la requête. Avant de nous emm***** à identifier les noms communs pour comparer, God knows how, la proportion de leur occurrence dans notre corpus VS la probabilité de leur occurrence dans un texte lambda, essayons une méthode built-in qui a fait ses preuves\n",
    "\n",
    "L'un des algorithmes d'extraction de mot-clef qui a dernièrement fait sont chemin n'est autre que la RAKE (Rapid Automatic Keyword Extraction) <a href= \"http://textminingonline.com/getting-started-with-keyword-extraction\"> sources </a>. Il existe un module exclusivement dédié à cette fonction que vous pourrez installer avec;\n",
    "\n",
    "<code > pip3 install rake_nltk </code>\n",
    "\n",
    "Nous allons d'abord aggréger l'ensemble des données de data[\"text\"] pour obtenir une unique chaine de charactère (astuce: faite en d'abord une liste puis utilisez une méthode join pour list -> str (Google est votre meilleur ami))"
   ]
  },
  {
   "cell_type": "code",
   "execution_count": 12,
   "metadata": {},
   "outputs": [
    {
     "name": "stdout",
     "output_type": "stream",
     "text": [
      "63060\n"
     ]
    }
   ],
   "source": [
    "Corpus = None #CODE À COMPLÉTER\n",
    "\n",
    "print(len(Corpus))"
   ]
  },
  {
   "cell_type": "markdown",
   "metadata": {},
   "source": [
    "[expected output =] <code>63060</code>\n",
    "\n",
    "Importons maintenant rake"
   ]
  },
  {
   "cell_type": "code",
   "execution_count": 13,
   "metadata": {},
   "outputs": [],
   "source": [
    "from rake_nltk import Rake\n",
    "r = Rake()"
   ]
  },
  {
   "cell_type": "code",
   "execution_count": 14,
   "metadata": {},
   "outputs": [
    {
     "data": {
      "text/plain": [
       "2384"
      ]
     },
     "execution_count": 14,
     "metadata": {},
     "output_type": "execute_result"
    }
   ],
   "source": [
    "r.extract_keywords_from_text(Corpus)\n",
    "keys = r.get_ranked_phrases()\n",
    "len(keys)"
   ]
  },
  {
   "cell_type": "markdown",
   "metadata": {},
   "source": [
    "[expected output] <code> 2384 </code>"
   ]
  },
  {
   "cell_type": "code",
   "execution_count": 15,
   "metadata": {},
   "outputs": [
    {
     "data": {
      "text/plain": [
       "['misc ● exemptions ● legislation ● new vax status ● thimerosal vaccine info ● 2015 schedule ● acip recs ● components ● iom reports ● vax injury comp program ● manufacturer links ● package inserts ● reporting aes ● thimerosal table ● vaers ● viss links search',\n",
       " 'vax specific ● anthrax ● hepatitis b ● hib ● influenza ● lyme disease ● meningococcal ● mmr ● polio ● rotavirus ● smallpox ● tdap',\n",
       " 'ivs ● faculty biographies ● publications ● donations email ivs disclaimers',\n",
       " 'natural news media information advertise information email newsletter facebook twitter google pinterest youtube diaspora seen rss natural news',\n",
       " 'td ● varicella ● yellow fever issues',\n",
       " 'hb virus polymerase shares significant amino acid similarities',\n",
       " 'inboxthis website uses cookiesthis website uses cookies',\n",
       " 'organization identifies spontaneous adverse event reports emerged',\n",
       " 'natural news email newsletter subscribers',\n",
       " 'illness without scientific proof ,\" read many headlines']"
      ]
     },
     "execution_count": 15,
     "metadata": {},
     "output_type": "execute_result"
    }
   ],
   "source": [
    "keys[:10]"
   ]
  },
  {
   "cell_type": "markdown",
   "metadata": {},
   "source": [
    "Sans pouvoir être formel au mot prêt, vous pouvez déjà vous faire une bonne idée de ce que contenait la requête Google.\n",
    "\n",
    "## Valorisation des données\n",
    "Maintenant que nous avons à peu prêt identifé ce dont il retourne, nous pourrions aller plus loin dans la valorisation de ces données. Nous pourrions, par exemple, récupérer l'ensemble des images qui apparaissent sur ces pages, les traiter et sauvegarder ces résultats dans un dossier à part en vu d'un futur traitement par un algorithme de récognition d'image. \n",
    "\n",
    "Il nous faut, tout d'abord\n",
    "<ul>\n",
    "<li> l'ensemble des urls d'img de notre code SSI celles ci commencent par HTTP. Nous prendrons soin d'éviter les images d'attribut (alt) vide afin de ne pas récupérer les images des boutons et autres items de l'environnement du site.\n",
    "<li> l'ensemble des alt de ces mêmes images (qui sait, ça pourrai servir)\n",
    "</ul>\n",
    "\n",
    "créez les deux fonctions correspondantes exploitant des définitions de listes <b>par compréhension</b> et appliquez les sur le data set à l'aide d'une méthode <b>pool.map</b>"
   ]
  },
  {
   "cell_type": "code",
   "execution_count": 16,
   "metadata": {},
   "outputs": [],
   "source": [
    "def GetImg(p):\n",
    "    None #CODE À COMPLÉTER\n",
    "    None #CODE À COMPLÉTER\n",
    "\n",
    "def GetImgNames(p):\n",
    "    None #CODE À COMPLÉTER\n",
    "    None #CODE À COMPLÉTER"
   ]
  },
  {
   "cell_type": "code",
   "execution_count": 17,
   "metadata": {},
   "outputs": [],
   "source": [
    "pool = None #CODE À COMPLÉTER\n",
    "\n",
    "data[\"imgLinks\"] = None #CODE À COMPLÉTER\n",
    "data[\"imgNames\"] = None #CODE À COMPLÉTER\n",
    "\n",
    "pool.close() \n",
    "pool.join()"
   ]
  },
  {
   "cell_type": "code",
   "execution_count": 18,
   "metadata": {},
   "outputs": [
    {
     "name": "stdout",
     "output_type": "stream",
     "text": [
      "[]\n",
      "True\n"
     ]
    }
   ],
   "source": [
    "print(data.iloc[2][\"imgLinks\"])\n",
    "print(bool(len(data.iloc[3][\"imgLinks\"]) == len(data.iloc[3][\"imgNames\"])))"
   ]
  },
  {
   "cell_type": "markdown",
   "metadata": {},
   "source": [
    "[expected output] <code> []\n",
    "                 True</code>\n",
    "\n",
    "Téléchargons maintenant l'ensemble des images à l'aide de wget dans un dossier que nous appellerons imgParsed. Installez tout d'abord wget:\n",
    "\n",
    "<code>pip3 install wget</code>\n",
    "\n",
    "Puis à l'aide de la méthode de votre choix (itération par une liste, apply sur la série data[\"imgLinks\"] (il va falloir ruser)), télécharger toutes les images (ou à défaut, si le serveur fait chier, celles que vous pouvez)"
   ]
  },
  {
   "cell_type": "code",
   "execution_count": null,
   "metadata": {},
   "outputs": [],
   "source": [
    "Img = data[\"imgLinks\"] \n",
    "Img"
   ]
  },
  {
   "cell_type": "markdown",
   "metadata": {},
   "source": [
    "Enfin, implémentez une dernière fonction qui, pour chaque image du dossier ainsi crée, produira une image de ses contours (un .png) selon la méthode de détection de contour de Sobel. Vous nommerez les nouveaux fichiers selon la logique suivante:\n",
    "\n",
    "    image.png ----> imageSobel.png\n",
    "\n",
    "Importez pour cela la (les) librairie(s) pertinente(s)"
   ]
  },
  {
   "cell_type": "code",
   "execution_count": null,
   "metadata": {},
   "outputs": [],
   "source": []
  }
 ],
 "metadata": {
  "kernelspec": {
   "display_name": "Python 3",
   "language": "python",
   "name": "python3"
  },
  "language_info": {
   "codemirror_mode": {
    "name": "ipython",
    "version": 3
   },
   "file_extension": ".py",
   "mimetype": "text/x-python",
   "name": "python",
   "nbconvert_exporter": "python",
   "pygments_lexer": "ipython3",
   "version": "3.5.2"
  }
 },
 "nbformat": 4,
 "nbformat_minor": 2
}
