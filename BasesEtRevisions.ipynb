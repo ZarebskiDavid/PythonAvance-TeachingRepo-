{
 "cells": [
  {
   "cell_type": "markdown",
   "metadata": {},
   "source": [
    "# Python: concepts fondamentaux et révisions diverses\n",
    "\n",
    "<a href=\"https://docs.python.org/3/library/index.html\"> documentation officielle </a>"
   ]
  },
  {
   "cell_type": "markdown",
   "metadata": {},
   "source": [
    "## La syntaxe de base: variables, listes, etc etc"
   ]
  },
  {
   "cell_type": "markdown",
   "metadata": {},
   "source": [
    "Python est un langage orienté objet à typage fort. Explicitons cette notion"
   ]
  },
  {
   "cell_type": "code",
   "execution_count": 8,
   "metadata": {},
   "outputs": [
    {
     "name": "stdout",
     "output_type": "stream",
     "text": [
      "8\n",
      "15\n",
      "0.6\n",
      "longtemps, je me suis couché de bonne heure\n"
     ]
    }
   ],
   "source": [
    "a = 3  #on attribue a une variable a la valeur 3\n",
    "b = 5\n",
    "c = 5.0\n",
    "x = \"longtemps, \"\n",
    "y = \"je me suis couché de bonne heure\"\n",
    "\n",
    "print(a+b)\n",
    "print(a*b)\n",
    "print(a/b)\n",
    "print(x+y)"
   ]
  },
  {
   "cell_type": "markdown",
   "metadata": {},
   "source": [
    "Tout se passe bien jusque là. Essayons autre chose"
   ]
  },
  {
   "cell_type": "code",
   "execution_count": 3,
   "metadata": {},
   "outputs": [
    {
     "ename": "TypeError",
     "evalue": "unsupported operand type(s) for +: 'int' and 'str'",
     "output_type": "error",
     "traceback": [
      "\u001b[0;31m---------------------------------------------------------------------------\u001b[0m",
      "\u001b[0;31mTypeError\u001b[0m                                 Traceback (most recent call last)",
      "\u001b[0;32m<ipython-input-3-be68adde2c3f>\u001b[0m in \u001b[0;36m<module>\u001b[0;34m()\u001b[0m\n\u001b[0;32m----> 1\u001b[0;31m \u001b[0mprint\u001b[0m\u001b[0;34m(\u001b[0m\u001b[0ma\u001b[0m\u001b[0;34m+\u001b[0m\u001b[0my\u001b[0m\u001b[0;34m)\u001b[0m\u001b[0;34m\u001b[0m\u001b[0m\n\u001b[0m",
      "\u001b[0;31mTypeError\u001b[0m: unsupported operand type(s) for +: 'int' and 'str'"
     ]
    }
   ],
   "source": [
    "print(a+y)"
   ]
  },
  {
   "cell_type": "markdown",
   "metadata": {},
   "source": [
    "L'interpréteur n'est pas content du tout. Nous lui avons demandé une opération sur deux objets de natures différentes: un entier naturel ('int') et une chaîne de caractère ('str'). C'est un langage fortement typé puisque l'interpréteur détecte ces erreurs. \"Oui mais on ne lui a rien précisé!!!\" . Qu'importe, Python interprète le type des variables à mesure qu'on les lui donne. En python tout possède un type. On peut s'en assurer de la manière suiante.\n",
    "\n",
    "<a href=\"https://docs.python.org/3/library/stdtypes.html\"> Plus d'infos sur les types </a>"
   ]
  },
  {
   "cell_type": "code",
   "execution_count": 4,
   "metadata": {},
   "outputs": [
    {
     "name": "stdout",
     "output_type": "stream",
     "text": [
      "3 est un  <class 'int'>\n",
      "5.0 est un  <class 'float'>\n",
      "longtemps,  est une  <class 'str'>\n"
     ]
    }
   ],
   "source": [
    "print(a, 'est un ', type(a))\n",
    "print(c, 'est un ', type(c))\n",
    "print(x, 'est une ', type(x))"
   ]
  },
  {
   "cell_type": "markdown",
   "metadata": {},
   "source": [
    "## listes, tuples et dictionnaires\n"
   ]
  },
  {
   "cell_type": "markdown",
   "metadata": {},
   "source": [
    "Il existe différentes structures de données en python. Nativement (i.e. sans aucune librairie spécifique) on compte ces trois principales.\n",
    "<ul>\n",
    "<li> <a href = \"https://docs.python.org/3/tutorial/datastructures.html\">Les listes  </a>\n",
    "<li> <a href = \"https://docs.python.org/2/tutorial/datastructures.html#tuples-and-sequences\">les tuples  </a>\n",
    "<li> <a href = \"https://docs.python.org/2/tutorial/datastructures.html#dictionaries\">les dictionnaires  </a>\n",
    "</ul>"
   ]
  },
  {
   "cell_type": "code",
   "execution_count": 6,
   "metadata": {},
   "outputs": [
    {
     "name": "stdout",
     "output_type": "stream",
     "text": [
      "[3, 5, 5.0] <class 'list'>\n",
      "(3, 5, 5.0) <class 'tuple'>\n",
      "{'premier': 3, 'second': 5, 'troisième': 5.0} <class 'dict'>\n"
     ]
    }
   ],
   "source": [
    "AA = [a,b,c] # est une liste   (délimité par [])\n",
    "BB = (a,b,c) # est un tuple    (délimité par ())\n",
    "CC = {'premier': a, 'second':b, 'troisième':c} # est un dictionnaire (délimité par {})\n",
    "\n",
    "print(AA, type(AA))\n",
    "print(BB, type(BB))\n",
    "print(CC, type(CC))"
   ]
  },
  {
   "cell_type": "markdown",
   "metadata": {},
   "source": [
    "La méthode pour extraire des données des dictionnaires diffère de celle pour les tuples et listes (NB, on compte à partir de 0)"
   ]
  },
  {
   "cell_type": "code",
   "execution_count": 16,
   "metadata": {},
   "outputs": [
    {
     "name": "stdout",
     "output_type": "stream",
     "text": [
      "3       5       5.0\n"
     ]
    }
   ],
   "source": [
    "print(AA[0],'     ',BB[1],'     ',CC['troisième'])"
   ]
  },
  {
   "cell_type": "markdown",
   "metadata": {},
   "source": [
    "Les opérations de manipulation de ces structures de données diffèrent aussi quelque peu"
   ]
  },
  {
   "cell_type": "code",
   "execution_count": 25,
   "metadata": {},
   "outputs": [
    {
     "name": "stdout",
     "output_type": "stream",
     "text": [
      "[5.0, 5, 3]\n",
      "[5.0, 5, 3]\n"
     ]
    },
    {
     "ename": "TypeError",
     "evalue": "argument to reversed() must be a sequence",
     "output_type": "error",
     "traceback": [
      "\u001b[0;31m---------------------------------------------------------------------------\u001b[0m",
      "\u001b[0;31mTypeError\u001b[0m                                 Traceback (most recent call last)",
      "\u001b[0;32m<ipython-input-25-1e6b6897f821>\u001b[0m in \u001b[0;36m<module>\u001b[0;34m()\u001b[0m\n\u001b[1;32m      1\u001b[0m \u001b[0mprint\u001b[0m\u001b[0;34m(\u001b[0m\u001b[0mlist\u001b[0m\u001b[0;34m(\u001b[0m\u001b[0mreversed\u001b[0m\u001b[0;34m(\u001b[0m\u001b[0mAA\u001b[0m\u001b[0;34m)\u001b[0m\u001b[0;34m)\u001b[0m\u001b[0;34m)\u001b[0m\u001b[0;34m\u001b[0m\u001b[0m\n\u001b[1;32m      2\u001b[0m \u001b[0mprint\u001b[0m\u001b[0;34m(\u001b[0m\u001b[0mlist\u001b[0m\u001b[0;34m(\u001b[0m\u001b[0mreversed\u001b[0m\u001b[0;34m(\u001b[0m\u001b[0mBB\u001b[0m\u001b[0;34m)\u001b[0m\u001b[0;34m)\u001b[0m\u001b[0;34m)\u001b[0m\u001b[0;34m\u001b[0m\u001b[0m\n\u001b[0;32m----> 3\u001b[0;31m \u001b[0mprint\u001b[0m\u001b[0;34m(\u001b[0m\u001b[0mlist\u001b[0m\u001b[0;34m(\u001b[0m\u001b[0mreversed\u001b[0m\u001b[0;34m(\u001b[0m\u001b[0mCC\u001b[0m\u001b[0;34m)\u001b[0m\u001b[0;34m)\u001b[0m\u001b[0;34m)\u001b[0m\u001b[0;34m\u001b[0m\u001b[0m\n\u001b[0m",
      "\u001b[0;31mTypeError\u001b[0m: argument to reversed() must be a sequence"
     ]
    }
   ],
   "source": [
    "print(list(reversed(AA)))\n",
    "print(list(reversed(BB)))\n",
    "print(list(reversed(CC)))"
   ]
  },
  {
   "cell_type": "markdown",
   "metadata": {},
   "source": [
    "Et oui, la notion d'ordre n'a pas de sens pour un dictionnaire (C'est d'ailleurs tout l'intérêt de la chose: l'indicage ne dépend pas de l'ordre). En revanche, la longueur de ces objets se mesure de la même manière avec len()"
   ]
  },
  {
   "cell_type": "code",
   "execution_count": 27,
   "metadata": {},
   "outputs": [
    {
     "name": "stdout",
     "output_type": "stream",
     "text": [
      "Okay\n",
      "3\n"
     ]
    }
   ],
   "source": [
    "if len(AA)==len(BB)==len(CC): \n",
    "    print('Okay')\n",
    "    print(len(AA))\n"
   ]
  },
  {
   "cell_type": "markdown",
   "metadata": {},
   "source": [
    "Voyons maintenant comment ajouter ou enlever des éléments d'une liste"
   ]
  },
  {
   "cell_type": "code",
   "execution_count": 5,
   "metadata": {},
   "outputs": [
    {
     "name": "stdout",
     "output_type": "stream",
     "text": [
      "[1, 2, 9, 7.1, 8, 5, 4, 5]\n",
      "[2, 9, 7.1, 8, 5, 4, 5]\n",
      "[2, 9, 7.1, 8, 5, 4, 5, 8]\n"
     ]
    }
   ],
   "source": [
    "a = [1,2,9,7.1,8,5,4,5,5.1]\n",
    "del a[-1] # enlève le dernier élément de la liste\n",
    "print(a)\n",
    "del a[0] # enlève le premier élément de la liste\n",
    "print(a)\n",
    "\n",
    "a.append(8) # ajoute 8 à la fin de la liste\n",
    "print(a)"
   ]
  },
  {
   "cell_type": "markdown",
   "metadata": {},
   "source": [
    "Une fonction intéressante de listes est la possibilité de les <a href=\"http://apprendre-python.com/page-comprehension-list-listes-python-cours-debutants\"> définir\"par compréhension\"</a> (i.e. circonscrire ses éléments d'après une condition plutôt que par énumération). Voyons d'abord comment utiliser les conditions"
   ]
  },
  {
   "cell_type": "markdown",
   "metadata": {},
   "source": [
    "## Boucles et conditions\n",
    "Nous avons maintenant les outils de base pour implémenter quelques algorithmes simples à l'aide de boucles et de conditions. Il existe deux types de boucles. <b>for</b>  itère une opération un nombre de fois défini, <b>while</b> itère jusqu'à ce qu'une condition soit remplie (gare à ne pas créer de boucles infinies). Les deux méthodes suivantes se valent."
   ]
  },
  {
   "cell_type": "code",
   "execution_count": 34,
   "metadata": {},
   "outputs": [
    {
     "name": "stdout",
     "output_type": "stream",
     "text": [
      "0\n",
      "1\n",
      "2\n",
      "3\n",
      "4\n",
      "5\n",
      "6\n",
      "7\n",
      "8\n",
      "9\n",
      "##########\n",
      "0\n",
      "1\n",
      "2\n",
      "3\n",
      "4\n",
      "5\n",
      "6\n",
      "7\n",
      "8\n",
      "9\n"
     ]
    }
   ],
   "source": [
    "i = 0                  # initialisation\n",
    "while i < 10:          # tant que i est strictement inférieur à 10\n",
    "    print(i)\n",
    "    i = i+1\n",
    "\n",
    "print(\"##########\")\n",
    "\n",
    "for i in range(10):    # pour chaque i de 0 à 10\n",
    "    print(i)           # imprime i"
   ]
  },
  {
   "cell_type": "markdown",
   "metadata": {},
   "source": [
    "Deux remarques importantes sur ce qui précède. \n",
    "<ul>\n",
    "<li> le scope des bloucles est matérialisé par l'<b>indentation des lignes</b> qui suit \":\". En d'autres termes, ce qui indique à l'interpréteur que telle ou telle ligne est comprise dans la boucle, ce n'est pas la présence de caractères comme ( ou [ mais l'espacement. Pour fermer une boucle, il suffit de s'aligner de nouveau sur la première colonne\n",
    "<li> remarquez que le \"i\" de la deuxième boucle (la boucle for) ne part pas de neuf mais bien de 0. Cela tient au fait que, dans ce contexte, est une <b>variable locale</b> dont le sens est fixé à l'intérieur de la boucle en question\n",
    "</ul>\n",
    "\n",
    "[Exercice] Essayons maintenant d'implémenter un algorithme simple comme un détecteur palindrome (ex: \"sms\" et \"xanax\" sont des palindromes). On peut imaginer différentes procédures mais la plus simple serait, pour une chaine de caractères quelconque de longueur n, de vérifier que \n",
    "<ul>\n",
    "<li> 1      ==     n\n",
    "<li>   2    ==    n-1\n",
    "<li> etc etc\n",
    "</ul>\n",
    "A la moindre exception, le mot n'est pas un palindrome. Nous allons de plus gagner du temps en créant une <b>fonction</b> qui nous dispensera de réécrire le code pour chaque mot à tester. Une fonction se définit avec <b>def</b>, \":\" et une indentation."
   ]
  },
  {
   "cell_type": "code",
   "execution_count": 43,
   "metadata": {},
   "outputs": [
    {
     "name": "stdout",
     "output_type": "stream",
     "text": [
      "xanax\n",
      "OK\n",
      "OK\n",
      "solo\n",
      "ce n'est pas un palindrome\n",
      "sememes\n",
      "OK\n",
      "OK\n",
      "OK\n",
      "OK\n"
     ]
    }
   ],
   "source": [
    "def PalindromeDetect(mot):\n",
    "    # CODE A COMPLÉTER\n",
    "\n",
    "PalindromeDetect(\"xanax\")\n",
    "PalindromeDetect(\"solo\")\n",
    "PalindromeDetect(\"sememes\")"
   ]
  },
  {
   "cell_type": "markdown",
   "metadata": {},
   "source": [
    "Revenons maintenant la définition des listes par compréhension.  "
   ]
  },
  {
   "cell_type": "code",
   "execution_count": 11,
   "metadata": {},
   "outputs": [
    {
     "name": "stdout",
     "output_type": "stream",
     "text": [
      "[0, 1, 4, 9, 16, 25, 36, 49, 64, 81]\n",
      "[0, 1, 4, 9, 16, 25, 36]\n"
     ]
    }
   ],
   "source": [
    "carres = [x**2 for x in range(10)] # comprendre ainsi: l'\"ensemble des carrés des x compris dans l'interval de 0 à 10\"\n",
    "\n",
    "print(carres)\n",
    "\n",
    "# mettons que seuls les nombres inférieurs à 40 nous intéressent\n",
    "\n",
    "carre40 = [x for x in carres if x<40]\n",
    "print(carre40)"
   ]
  },
  {
   "cell_type": "markdown",
   "metadata": {},
   "source": [
    "[Exercice]: définissez par compréhension l'ensemble-produit (aka <a href = \"https://fr.wikipedia.org/wiki/Produit_cart%C3%A9sien\">produit cartésien</a>) des deux ensembles suivants."
   ]
  },
  {
   "cell_type": "code",
   "execution_count": 15,
   "metadata": {},
   "outputs": [
    {
     "name": "stdout",
     "output_type": "stream",
     "text": [
      "[(1, 'a'), (1, 5), (1, 7), (1, 'e'), (1, 'a'), (1, 5), (1, 7), (1, 'e'), (5, 'a'), (5, 5), (5, 7), (5, 'e'), (88, 'a'), (88, 5), (88, 7), (88, 'e'), (57, 'a'), (57, 5), (57, 7), (57, 'e'), (4, 'a'), (4, 5), (4, 7), (4, 'e')]\n"
     ]
    }
   ],
   "source": [
    "A = [1,1,5,88,57,4]\n",
    "B = [\"a\",5,7,\"e\"]\n",
    "\n",
    "Cartesien = None #CODE A COMPLÉTER\n",
    "print(Cartesien)"
   ]
  },
  {
   "cell_type": "markdown",
   "metadata": {},
   "source": [
    "Testons maintenant quelques conditions usuelles avec un dictionnaire"
   ]
  },
  {
   "cell_type": "code",
   "execution_count": 14,
   "metadata": {},
   "outputs": [
    {
     "name": "stdout",
     "output_type": "stream",
     "text": [
      "True\n",
      "False\n",
      "True\n",
      "False\n"
     ]
    }
   ],
   "source": [
    "dictionnary = {'sam': 15,'tom': 14,'bob': 11,'luc': 15,'marc': 9,'jean': 8}\n",
    "\n",
    "print(bool(dictionnary[\"sam\"]>dictionnary[\"tom\"]))\n",
    "\n",
    "print(bool(dictionnary[\"tom\"]<dictionnary[\"bob\"]))\n",
    "\n",
    "print(bool(dictionnary[\"sam\"]>=dictionnary[\"luc\"]))\n",
    "\n",
    "print(bool(dictionnary[\"sam\"]!=dictionnary[\"luc\"]))"
   ]
  },
  {
   "cell_type": "markdown",
   "metadata": {
    "collapsed": true
   },
   "source": [
    "## Librairies: utilisation et création\n",
    "Outre une syntaxe simple, le principal atout de python réside dans son choix de librairies spécialisées dans un grand nombre de domaines. Pour importer une librairie, il suffit de:"
   ]
  },
  {
   "cell_type": "code",
   "execution_count": 1,
   "metadata": {},
   "outputs": [
    {
     "name": "stdout",
     "output_type": "stream",
     "text": [
      "[[ 0.98784243  0.64429725]\n",
      " [ 0.68986038  0.08789651]\n",
      " [ 0.22369941  0.39752248]]\n"
     ]
    }
   ],
   "source": [
    "import pandas                    #importe la librairie pandas\n",
    "from sklearn import linear_model # importe le module \"modèle linéaire\" de la librairie Sklearn\n",
    "import numpy as np               # importe la librairie numpy qui sera désigné par \"np\" (pratique pour éviter les scripts trop verbeux)\n",
    "\n",
    "data = np.random.rand(3,2)       #génère une matrice de données aléatoire de 3 lignes et 2 colonnes\n",
    "print(data)"
   ]
  },
  {
   "cell_type": "markdown",
   "metadata": {},
   "source": [
    "Il existe plusieurs manières d'installer des librairies python. La plus simple consiste à exécuter\n",
    "\n",
    "<code>pip3 install nom-de-la-librairie</code>\n",
    "\n",
    "dans votre terminal"
   ]
  },
  {
   "cell_type": "markdown",
   "metadata": {},
   "source": [
    "Gardez à l'esprit qu'il n'existe pas de différence ontologique entre un <b>script</b> et un <b>module</b>. Une <b>librairie</b> est un ensemble de <b>module</b>. La librairie sklearn est en fait un dossier qui contient un fichier .py linear_model vers lequel pointe le PATH de votre interpréteur Python (à défaut, dans le dossier courant). En conséquence, vous pouvez aisément vous créer vos propres modules et librairies.\n",
    "\n",
    "Nous allons créer une librairie appelée <b>libPerso</b> avec un module <b>nlp</b> doté d'une fonction capable de compter les mots d'une chaîne de caractères. Voici ce que doit contenir votre nlp.py. Il vous suffira ensuite d'ajouter ce fichier dans un dossier appelé libPerso dans le dossier courant. Petite subtilité supplémentaire, le dossier <b>libPerso</b> devra contenir un fichier vide appelé <b>__init__.py</b> pour que l'interpréteur sache qu'il s'agit d'une librairie."
   ]
  },
  {
   "cell_type": "code",
   "execution_count": null,
   "metadata": {
    "collapsed": true
   },
   "outputs": [],
   "source": [
    "import re                # analyse d'expression régulière\n",
    "def WordCount(string):\n",
    "    count = len(re.findall(r'\\w+', string))\n",
    "    return(count)"
   ]
  },
  {
   "cell_type": "markdown",
   "metadata": {},
   "source": [
    "Il vous suffira ensuite d'ajouter ce fichier dans un dossier appelé libPerso dans le dossier courant. Petite subtilité supplémentaire, le dossier <b>libPerso</b> devra contenir un fichier vide appelé $__init__.py$ pour que l'interpréteur sache qu'il s'agit d'une librairie.\n",
    "\n",
    "Vérifions que cela marche"
   ]
  },
  {
   "cell_type": "code",
   "execution_count": 6,
   "metadata": {
    "collapsed": true
   },
   "outputs": [],
   "source": [
    "from libPerso import nlp"
   ]
  },
  {
   "cell_type": "markdown",
   "metadata": {},
   "source": [
    "Yeah!!!!!"
   ]
  },
  {
   "cell_type": "code",
   "execution_count": 11,
   "metadata": {},
   "outputs": [
    {
     "name": "stdout",
     "output_type": "stream",
     "text": [
      "longtemps, je me suis couché de bonne heure\n",
      "nombre de mots:  8\n"
     ]
    }
   ],
   "source": [
    "testString = x+y\n",
    "print(testString)\n",
    "print(\"nombre de mots: \", nlp.WordCount(testString))"
   ]
  },
  {
   "cell_type": "markdown",
   "metadata": {
    "collapsed": true
   },
   "source": [
    "## Exercices Types\n",
    "A l'aide du dictionnaire précédent, créez une fonction capable de:\n",
    "<ul>\n",
    "<li> de trouver le nom associé à la meilleur note\n",
    "<li> de trouver le nom associé à la moins bonne note\n",
    "</ul>"
   ]
  },
  {
   "cell_type": "code",
   "execution_count": 16,
   "metadata": {},
   "outputs": [
    {
     "name": "stdout",
     "output_type": "stream",
     "text": [
      "dict_items([('luc', 15), ('bob', 11), ('jean', 8), ('paul', 11), ('marc', 9), ('sam', 15), ('tom', 14)])\n",
      "('tom', 14)\n",
      "('bob', 11)\n",
      "marc\n",
      "la (les) tête(s) d'ampoule:  ['luc', 'sam']\n",
      "le (les) cancre(s):  ['jean']\n"
     ]
    },
    {
     "data": {
      "text/plain": [
       "(None, None)"
      ]
     },
     "execution_count": 16,
     "metadata": {},
     "output_type": "execute_result"
    }
   ],
   "source": [
    "# indications\n",
    "grades = {'sam': 15,'tom': 14,'bob': 11,'luc': 15,'marc': 9,'jean': 8,'paul': 11 }\n",
    "\n",
    "notes = grades.items()\n",
    "print(notes)\n",
    "print(max(notes))\n",
    "print(min(notes))\n",
    "\n",
    "print(list(grades.keys())[list(grades.values()).index(9)])\n",
    "\n",
    "# /indications\n",
    "\n",
    "def Synthesis(d): \n",
    "    #CODE A COMPLÉTER\n",
    "\n",
    "Synthesis(grades)"
   ]
  },
  {
   "cell_type": "markdown",
   "metadata": {
    "collapsed": true
   },
   "source": [
    "Implémentez une fonction capable de vérifier si un entier quelconque est ou non premier. Vous définirez pour cela l'ensemble de ses diviseurs par compréhension. Utilisez l'opérateur modulo (x % y -> reste de la division de x par y)"
   ]
  },
  {
   "cell_type": "code",
   "execution_count": 38,
   "metadata": {},
   "outputs": [
    {
     "name": "stdout",
     "output_type": "stream",
     "text": [
      "False\n",
      "True\n",
      "False\n",
      "True\n"
     ]
    }
   ],
   "source": [
    "def IsPrime(n): \n",
    "    #CODE A COMPLÉTER\n",
    "\n",
    "print(IsPrime(8))\n",
    "print(IsPrime(1))\n",
    "print(IsPrime(25))\n",
    "print(IsPrime(43))"
   ]
  },
  {
   "cell_type": "markdown",
   "metadata": {},
   "source": [
    "A l'aide de cette fonction, définissez l'ensemble des entiers premiers inférieurs à 200"
   ]
  },
  {
   "cell_type": "code",
   "execution_count": 47,
   "metadata": {
    "collapsed": true
   },
   "outputs": [],
   "source": [
    "FirstPrime = None #CODE A COMPLÉTER\n",
    " "
   ]
  },
  {
   "cell_type": "code",
   "execution_count": 48,
   "metadata": {},
   "outputs": [
    {
     "data": {
      "text/plain": [
       "[0,\n",
       " 1,\n",
       " 2,\n",
       " 3,\n",
       " 5,\n",
       " 7,\n",
       " 11,\n",
       " 13,\n",
       " 17,\n",
       " 19,\n",
       " 23,\n",
       " 29,\n",
       " 31,\n",
       " 37,\n",
       " 41,\n",
       " 43,\n",
       " 47,\n",
       " 53,\n",
       " 59,\n",
       " 61,\n",
       " 67,\n",
       " 71,\n",
       " 73,\n",
       " 79,\n",
       " 83,\n",
       " 89,\n",
       " 97,\n",
       " 101,\n",
       " 103,\n",
       " 107,\n",
       " 109,\n",
       " 113,\n",
       " 127,\n",
       " 131,\n",
       " 137,\n",
       " 139,\n",
       " 149,\n",
       " 151,\n",
       " 157,\n",
       " 163,\n",
       " 167,\n",
       " 173,\n",
       " 179,\n",
       " 181,\n",
       " 191,\n",
       " 193,\n",
       " 197,\n",
       " 199]"
      ]
     },
     "execution_count": 48,
     "metadata": {},
     "output_type": "execute_result"
    }
   ],
   "source": [
    "FirstPrime"
   ]
  },
  {
   "cell_type": "markdown",
   "metadata": {},
   "source": [
    "Implémentez un générateur de nombre aléatoire (ou plus justement pseudo-aléatoire) à la John von Neumann (voir cette page pour <a href=\"https://en.wikipedia.org/wiki/Middle-square_method\">la methode MID square</a>)"
   ]
  },
  {
   "cell_type": "code",
   "execution_count": null,
   "metadata": {
    "collapsed": true
   },
   "outputs": [],
   "source": []
  },
  {
   "cell_type": "markdown",
   "metadata": {},
   "source": [
    "## Introduction à Numpy\n",
    "\n",
    "Numpy est une librairie pour le calcul matriciel <a href=\"http://www.numpy.org/\">doc Officielle</a>"
   ]
  },
  {
   "cell_type": "code",
   "execution_count": 52,
   "metadata": {},
   "outputs": [
    {
     "name": "stdout",
     "output_type": "stream",
     "text": [
      "[[ 0.64982682  0.7740051   0.48861264]\n",
      " [ 0.22769872  0.35466188  0.97157599]\n",
      " [ 0.84185602  0.21725457  0.30831631]\n",
      " [ 0.72240377  0.49360872  0.52645135]\n",
      " [ 0.86503211  0.12189178  0.36107385]\n",
      " [ 0.23269584  0.19484991  0.95419278]\n",
      " [ 0.63781087  0.93638835  0.85650591]\n",
      " [ 0.84304177  0.97078066  0.67444343]\n",
      " [ 0.81298435  0.70755928  0.36086732]\n",
      " [ 0.30268361  0.28981986  0.67155052]]\n",
      "<class 'numpy.ndarray'>\n"
     ]
    }
   ],
   "source": [
    "import numpy as np\n",
    "\n",
    "a = np.random.rand(10,3)\n",
    "print(a)\n",
    "print(type(a))"
   ]
  },
  {
   "cell_type": "markdown",
   "metadata": {},
   "source": [
    "a est un objet de type particulier (<a href= \"https://docs.scipy.org/doc/numpy/reference/generated/numpy.array.html\">une matrice </a>) avec ses méthodes et propriétés propres. Nous serons souvent amenés à uiliser ces objets plutôt que des listes en raison de la possibilité qu'elles offres de grouper des données de manière multi-dimensionnelle......."
   ]
  },
  {
   "cell_type": "code",
   "execution_count": 55,
   "metadata": {},
   "outputs": [
    {
     "name": "stdout",
     "output_type": "stream",
     "text": [
      "(10, 3)\n",
      "2\n"
     ]
    }
   ],
   "source": [
    "print(a.shape)\n",
    "print(a.ndim)"
   ]
  },
  {
   "cell_type": "markdown",
   "metadata": {},
   "source": [
    "..... et effectuer des opérations vraiment simplement"
   ]
  },
  {
   "cell_type": "code",
   "execution_count": 57,
   "metadata": {},
   "outputs": [
    {
     "data": {
      "text/plain": [
       "array([[ 1.64982682,  1.7740051 ,  1.48861264],\n",
       "       [ 1.22769872,  1.35466188,  1.97157599],\n",
       "       [ 1.84185602,  1.21725457,  1.30831631],\n",
       "       [ 1.72240377,  1.49360872,  1.52645135],\n",
       "       [ 1.86503211,  1.12189178,  1.36107385],\n",
       "       [ 1.23269584,  1.19484991,  1.95419278],\n",
       "       [ 1.63781087,  1.93638835,  1.85650591],\n",
       "       [ 1.84304177,  1.97078066,  1.67444343],\n",
       "       [ 1.81298435,  1.70755928,  1.36086732],\n",
       "       [ 1.30268361,  1.28981986,  1.67155052]])"
      ]
     },
     "execution_count": 57,
     "metadata": {},
     "output_type": "execute_result"
    }
   ],
   "source": [
    "b = a+1 # ajouter 1 à chaque élément de la matrice\n",
    "b"
   ]
  },
  {
   "cell_type": "code",
   "execution_count": 58,
   "metadata": {},
   "outputs": [
    {
     "data": {
      "text/plain": [
       "array([[ 1.07210172,  1.373089  ,  0.72735495],\n",
       "       [ 0.27954543,  0.48044693,  1.9155359 ],\n",
       "       [ 1.55057759,  0.26445411,  0.40337525],\n",
       "       [ 1.24427099,  0.73725828,  0.80360238],\n",
       "       [ 1.61331266,  0.13674938,  0.49144817],\n",
       "       [ 0.2868432 ,  0.2328164 ,  1.86467663],\n",
       "       [ 1.04461357,  1.8132115 ,  1.5901083 ],\n",
       "       [ 1.5537612 ,  1.91319576,  1.12931737],\n",
       "       [ 1.47392789,  1.20819943,  0.49109254],\n",
       "       [ 0.39430098,  0.37381541,  1.12253062]])"
      ]
     },
     "execution_count": 58,
     "metadata": {},
     "output_type": "execute_result"
    }
   ],
   "source": [
    "c = np.multiply(a,b)\n",
    "c"
   ]
  },
  {
   "cell_type": "markdown",
   "metadata": {},
   "source": [
    "Exercice: créez une matrice aléatoire 3D de forme (128,128,3) sur laquelle vous exécuterez une i) multiplication par 255 (avec *, pas avec \"np.multiply(,)\" (je reviendrai sur la différence)) puis ii) une <a href=\"https://docs.scipy.org/doc/numpy-1.13.0/reference/generated/numpy.log.html\">fonction log</a> puis iii) un arrondi à l'entier inférieur"
   ]
  },
  {
   "cell_type": "code",
   "execution_count": 63,
   "metadata": {},
   "outputs": [
    {
     "data": {
      "text/plain": [
       "array([[[ 5.,  4.,  3.],\n",
       "        [ 5.,  4.,  4.],\n",
       "        [ 5.,  3.,  5.],\n",
       "        ..., \n",
       "        [ 6.,  5.,  5.],\n",
       "        [ 5.,  5.,  4.],\n",
       "        [ 5.,  5.,  4.]],\n",
       "\n",
       "       [[ 4.,  5.,  4.],\n",
       "        [ 5.,  5.,  5.],\n",
       "        [ 4.,  4.,  5.],\n",
       "        ..., \n",
       "        [ 5.,  5.,  5.],\n",
       "        [ 5.,  4.,  5.],\n",
       "        [ 5.,  5.,  5.]],\n",
       "\n",
       "       [[ 1.,  5.,  4.],\n",
       "        [ 5.,  5.,  5.],\n",
       "        [ 3.,  3.,  4.],\n",
       "        ..., \n",
       "        [ 5.,  5.,  5.],\n",
       "        [ 5.,  3.,  5.],\n",
       "        [ 5.,  5.,  5.]],\n",
       "\n",
       "       ..., \n",
       "       [[ 5.,  5.,  5.],\n",
       "        [ 5.,  4.,  4.],\n",
       "        [ 4.,  3.,  5.],\n",
       "        ..., \n",
       "        [ 5.,  5.,  5.],\n",
       "        [ 5.,  5.,  2.],\n",
       "        [ 3.,  4.,  5.]],\n",
       "\n",
       "       [[ 4.,  5.,  4.],\n",
       "        [ 5.,  5.,  6.],\n",
       "        [ 5.,  5.,  5.],\n",
       "        ..., \n",
       "        [ 4.,  4.,  5.],\n",
       "        [ 5.,  2.,  4.],\n",
       "        [ 5.,  5.,  5.]],\n",
       "\n",
       "       [[ 4.,  4.,  4.],\n",
       "        [ 6.,  3.,  5.],\n",
       "        [ 5.,  5.,  4.],\n",
       "        ..., \n",
       "        [ 5.,  4.,  5.],\n",
       "        [ 5.,  4.,  5.],\n",
       "        [ 5.,  5.,  5.]]])"
      ]
     },
     "execution_count": 63,
     "metadata": {},
     "output_type": "execute_result"
    }
   ],
   "source": [
    "a = np.random.rand(128,128,3)\n",
    "a = a*255\n",
    "a = np.log(a)\n",
    "a = np.round(a)\n",
    "a"
   ]
  },
  {
   "cell_type": "markdown",
   "metadata": {},
   "source": [
    "NB: un array numpy peut contenir autre chose que de données numériques."
   ]
  },
  {
   "cell_type": "code",
   "execution_count": 6,
   "metadata": {},
   "outputs": [
    {
     "name": "stdout",
     "output_type": "stream",
     "text": [
      "['a' 'd' 'e' 's']\n"
     ]
    }
   ],
   "source": [
    "abc = np.array([\"a\",\"d\",\"e\",\"s\"])\n",
    "print(abc)\n"
   ]
  },
  {
   "cell_type": "markdown",
   "metadata": {},
   "source": [
    "En soi, rien ne vous empèche de concevoir des matrices plus complexes en spécifiant les différents type de données (nous verrons au cours prochain l'intérêt de procéder de la sorte)"
   ]
  },
  {
   "cell_type": "code",
   "execution_count": 8,
   "metadata": {},
   "outputs": [
    {
     "name": "stdout",
     "output_type": "stream",
     "text": [
      "('John', [ 6.,  7.])\n",
      "John\n"
     ]
    }
   ],
   "source": [
    "dt = np.dtype([('name', np.unicode_, 16), ('grades', np.float64, (2,))]) # données structurées comprenant i)un chaîne de 16 caractères max et ii) un flottant\n",
    "x = np.array([('Sarah', (8.0, 7.0)), ('John', (6.0, 7.0))], dtype=dt)\n",
    "print(x[1])\n",
    "print(x[1][\"name\"])"
   ]
  },
  {
   "cell_type": "markdown",
   "metadata": {},
   "source": [
    "[exercice] Forts de cette découverte, nous allons pouvoir revenir à l'un de nos exercices précédents. À l'aide des données contenues dans cet array, identifier le meilleur et le moins bon élève SANS AUCUNE BOUCLE à l'aide de la fonction <a href=\"https://docs.scipy.org/doc/numpy-1.13.0/reference/generated/numpy.sort.html\"> np.sort</a>"
   ]
  },
  {
   "cell_type": "code",
   "execution_count": null,
   "metadata": {
    "collapsed": true
   },
   "outputs": [],
   "source": []
  }
 ],
 "metadata": {
  "celltoolbar": "Raw Cell Format",
  "kernelspec": {
   "display_name": "Python 3",
   "language": "python",
   "name": "python3"
  },
  "language_info": {
   "codemirror_mode": {
    "name": "ipython",
    "version": 3
   },
   "file_extension": ".py",
   "mimetype": "text/x-python",
   "name": "python",
   "nbconvert_exporter": "python",
   "pygments_lexer": "ipython3",
   "version": "3.5.2"
  }
 },
 "nbformat": 4,
 "nbformat_minor": 2
}
